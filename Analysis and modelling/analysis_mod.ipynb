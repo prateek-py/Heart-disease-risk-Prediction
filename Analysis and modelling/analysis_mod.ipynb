{
 "cells": [
  {
   "cell_type": "markdown",
   "id": "32c8bd67",
   "metadata": {
    "heading_collapsed": true
   },
   "source": [
    "# Heart Disease Prediction \n",
    "\n",
    "The data is from CDC as a part of annual telephonic survey by Behavioral Risk Factor Surveillance System (BRFSS). It interviews around 400k adults in the US about their health status and is of the year 2020.\n",
    "\n",
    "**Target variable** <br>\n",
    "HeartDisease: *Respondents that have ever reported having coronary heart disease (CHD) or myocardial infarction (MI).*<br>\n",
    "    \n",
    "**Features**<br>\n",
    "\n",
    "BMI: *Body Mass Index*<br>\n",
    "\n",
    "Smoking: *Have you smoked at least 100 cigarettes in your entire life? [Note: 5 packs = 100 cigarettes]*<br>\n",
    "\n",
    "AlcoholDrinking: *Heavy drinkers (adult men having more than 14 drinks per week and adult women having more than 7 drinks per week)*<br>\n",
    "\n",
    "Stroke: *(Ever told) (you had) a stroke*<br>\n",
    "\n",
    "PhysicalHealth: *Now thinking about your physical health, which includes physical illness and injury, for how many days during the past 30 days was your physical health not good?*<br>\n",
    "\n",
    "MentalHealth: *Now thinking about your mental health, which includes stress, depression, and problems with emotions, for how many days during the past 30 days was your mental health not good?*<br>\n",
    "\n",
    "DiffWalking: *Do you have serious difficulty walking or climbing stairs?*<br>\n",
    "\n",
    "Sex: *Are you male or female?*<br>\n",
    "\n",
    "AgeCategory: *age category*<br>\n",
    "\n",
    "Race: *Imputed race/ethnicity value (This value is the reported race/ethnicity or an imputed race/ethnicity, if the respondent refused to give a race/ethnicity. The value of the imputed race/ethnicity will be the most common race/ethnicity response for that region of the state)*<br>\n",
    "\n",
    "Diabetic: *(Ever told) (you had) diabetes? (If 'Yes' and respondent is female, ask 'Was this only when you were pregnant?'). If Respondent says pre-diabetes or borderline diabetes then response value is 'No, borderline diabetes'*<br>\n",
    "\n",
    "PhysicalActivity: *Adults who reported doing physical activity or exercise during the past 30 days other than their regular job*<br>\n",
    "\n",
    "GenHealth: *Would you say that in general your health is*<br>\n",
    "\n",
    "SleepTime: *On average, how many hours of sleep do you get in a 24-hour period?*<br>\n",
    "\n",
    "Asthma: *(Ever told) (you had) asthma?*<br>\n",
    "\n",
    "KidneyDisease: *Not including kidney stones, bladder infection or incontinence, were you ever told you had kidney disease?*<br>\n",
    "\n",
    "SkinCancer: *(Ever told) (you had) skin cancer?*<br>"
   ]
  },
  {
   "cell_type": "code",
   "execution_count": null,
   "id": "cf7a3f60",
   "metadata": {
    "hidden": true
   },
   "outputs": [],
   "source": []
  },
  {
   "cell_type": "markdown",
   "id": "a605c903",
   "metadata": {
    "hidden": true
   },
   "source": [
    "## Importing libraries"
   ]
  },
  {
   "cell_type": "code",
   "execution_count": 2,
   "id": "e342d7e7",
   "metadata": {
    "hidden": true
   },
   "outputs": [],
   "source": [
    "import pandas as pd\n",
    "import seaborn as sns\n",
    "import matplotlib.pyplot as plt"
   ]
  },
  {
   "cell_type": "code",
   "execution_count": 72,
   "id": "0df692ec",
   "metadata": {
    "hidden": true
   },
   "outputs": [],
   "source": [
    "from sklearn import preprocessing\n",
    "import itertools\n",
    "from sklearn.metrics import precision_recall_curve,average_precision_score\n",
    "from sklearn.model_selection import cross_val_score"
   ]
  },
  {
   "cell_type": "markdown",
   "id": "ea9e0755",
   "metadata": {
    "hidden": true
   },
   "source": [
    "## Importing dataset"
   ]
  },
  {
   "cell_type": "code",
   "execution_count": null,
   "id": "1a392eb3",
   "metadata": {
    "hidden": true
   },
   "outputs": [],
   "source": []
  },
  {
   "cell_type": "code",
   "execution_count": 5,
   "id": "16733e9b",
   "metadata": {
    "hidden": true
   },
   "outputs": [],
   "source": [
    "df=pd.read_csv(\"../data/heart_2020_cleaned.csv\")"
   ]
  },
  {
   "cell_type": "markdown",
   "id": "f218e013",
   "metadata": {
    "hidden": true
   },
   "source": [
    "## EDA and Transformation"
   ]
  },
  {
   "cell_type": "code",
   "execution_count": 10,
   "id": "964ac1ac",
   "metadata": {
    "hidden": true
   },
   "outputs": [
    {
     "data": {
      "text/html": [
       "<div>\n",
       "<style scoped>\n",
       "    .dataframe tbody tr th:only-of-type {\n",
       "        vertical-align: middle;\n",
       "    }\n",
       "\n",
       "    .dataframe tbody tr th {\n",
       "        vertical-align: top;\n",
       "    }\n",
       "\n",
       "    .dataframe thead th {\n",
       "        text-align: right;\n",
       "    }\n",
       "</style>\n",
       "<table border=\"1\" class=\"dataframe\">\n",
       "  <thead>\n",
       "    <tr style=\"text-align: right;\">\n",
       "      <th></th>\n",
       "      <th>HeartDisease</th>\n",
       "      <th>BMI</th>\n",
       "      <th>Smoking</th>\n",
       "      <th>AlcoholDrinking</th>\n",
       "      <th>Stroke</th>\n",
       "      <th>PhysicalHealth</th>\n",
       "      <th>MentalHealth</th>\n",
       "      <th>DiffWalking</th>\n",
       "      <th>Sex</th>\n",
       "      <th>AgeCategory</th>\n",
       "      <th>Race</th>\n",
       "      <th>Diabetic</th>\n",
       "      <th>PhysicalActivity</th>\n",
       "      <th>GenHealth</th>\n",
       "      <th>SleepTime</th>\n",
       "      <th>Asthma</th>\n",
       "      <th>KidneyDisease</th>\n",
       "      <th>SkinCancer</th>\n",
       "    </tr>\n",
       "  </thead>\n",
       "  <tbody>\n",
       "    <tr>\n",
       "      <th>0</th>\n",
       "      <td>No</td>\n",
       "      <td>16.60</td>\n",
       "      <td>Yes</td>\n",
       "      <td>No</td>\n",
       "      <td>No</td>\n",
       "      <td>3.0</td>\n",
       "      <td>30.0</td>\n",
       "      <td>No</td>\n",
       "      <td>Female</td>\n",
       "      <td>55-59</td>\n",
       "      <td>White</td>\n",
       "      <td>Yes</td>\n",
       "      <td>Yes</td>\n",
       "      <td>Very good</td>\n",
       "      <td>5.0</td>\n",
       "      <td>Yes</td>\n",
       "      <td>No</td>\n",
       "      <td>Yes</td>\n",
       "    </tr>\n",
       "    <tr>\n",
       "      <th>1</th>\n",
       "      <td>No</td>\n",
       "      <td>20.34</td>\n",
       "      <td>No</td>\n",
       "      <td>No</td>\n",
       "      <td>Yes</td>\n",
       "      <td>0.0</td>\n",
       "      <td>0.0</td>\n",
       "      <td>No</td>\n",
       "      <td>Female</td>\n",
       "      <td>80 or older</td>\n",
       "      <td>White</td>\n",
       "      <td>No</td>\n",
       "      <td>Yes</td>\n",
       "      <td>Very good</td>\n",
       "      <td>7.0</td>\n",
       "      <td>No</td>\n",
       "      <td>No</td>\n",
       "      <td>No</td>\n",
       "    </tr>\n",
       "    <tr>\n",
       "      <th>2</th>\n",
       "      <td>No</td>\n",
       "      <td>26.58</td>\n",
       "      <td>Yes</td>\n",
       "      <td>No</td>\n",
       "      <td>No</td>\n",
       "      <td>20.0</td>\n",
       "      <td>30.0</td>\n",
       "      <td>No</td>\n",
       "      <td>Male</td>\n",
       "      <td>65-69</td>\n",
       "      <td>White</td>\n",
       "      <td>Yes</td>\n",
       "      <td>Yes</td>\n",
       "      <td>Fair</td>\n",
       "      <td>8.0</td>\n",
       "      <td>Yes</td>\n",
       "      <td>No</td>\n",
       "      <td>No</td>\n",
       "    </tr>\n",
       "    <tr>\n",
       "      <th>3</th>\n",
       "      <td>No</td>\n",
       "      <td>24.21</td>\n",
       "      <td>No</td>\n",
       "      <td>No</td>\n",
       "      <td>No</td>\n",
       "      <td>0.0</td>\n",
       "      <td>0.0</td>\n",
       "      <td>No</td>\n",
       "      <td>Female</td>\n",
       "      <td>75-79</td>\n",
       "      <td>White</td>\n",
       "      <td>No</td>\n",
       "      <td>No</td>\n",
       "      <td>Good</td>\n",
       "      <td>6.0</td>\n",
       "      <td>No</td>\n",
       "      <td>No</td>\n",
       "      <td>Yes</td>\n",
       "    </tr>\n",
       "    <tr>\n",
       "      <th>4</th>\n",
       "      <td>No</td>\n",
       "      <td>23.71</td>\n",
       "      <td>No</td>\n",
       "      <td>No</td>\n",
       "      <td>No</td>\n",
       "      <td>28.0</td>\n",
       "      <td>0.0</td>\n",
       "      <td>Yes</td>\n",
       "      <td>Female</td>\n",
       "      <td>40-44</td>\n",
       "      <td>White</td>\n",
       "      <td>No</td>\n",
       "      <td>Yes</td>\n",
       "      <td>Very good</td>\n",
       "      <td>8.0</td>\n",
       "      <td>No</td>\n",
       "      <td>No</td>\n",
       "      <td>No</td>\n",
       "    </tr>\n",
       "  </tbody>\n",
       "</table>\n",
       "</div>"
      ],
      "text/plain": [
       "  HeartDisease    BMI Smoking AlcoholDrinking Stroke  PhysicalHealth  \\\n",
       "0           No  16.60     Yes              No     No             3.0   \n",
       "1           No  20.34      No              No    Yes             0.0   \n",
       "2           No  26.58     Yes              No     No            20.0   \n",
       "3           No  24.21      No              No     No             0.0   \n",
       "4           No  23.71      No              No     No            28.0   \n",
       "\n",
       "   MentalHealth DiffWalking     Sex  AgeCategory   Race Diabetic  \\\n",
       "0          30.0          No  Female        55-59  White      Yes   \n",
       "1           0.0          No  Female  80 or older  White       No   \n",
       "2          30.0          No    Male        65-69  White      Yes   \n",
       "3           0.0          No  Female        75-79  White       No   \n",
       "4           0.0         Yes  Female        40-44  White       No   \n",
       "\n",
       "  PhysicalActivity  GenHealth  SleepTime Asthma KidneyDisease SkinCancer  \n",
       "0              Yes  Very good        5.0    Yes            No        Yes  \n",
       "1              Yes  Very good        7.0     No            No         No  \n",
       "2              Yes       Fair        8.0    Yes            No         No  \n",
       "3               No       Good        6.0     No            No        Yes  \n",
       "4              Yes  Very good        8.0     No            No         No  "
      ]
     },
     "execution_count": 10,
     "metadata": {},
     "output_type": "execute_result"
    }
   ],
   "source": [
    "df.head()"
   ]
  },
  {
   "cell_type": "code",
   "execution_count": 11,
   "id": "04da2fcf",
   "metadata": {
    "hidden": true
   },
   "outputs": [
    {
     "name": "stdout",
     "output_type": "stream",
     "text": [
      "<class 'pandas.core.frame.DataFrame'>\n",
      "RangeIndex: 319795 entries, 0 to 319794\n",
      "Data columns (total 18 columns):\n",
      " #   Column            Non-Null Count   Dtype  \n",
      "---  ------            --------------   -----  \n",
      " 0   HeartDisease      319795 non-null  object \n",
      " 1   BMI               319795 non-null  float64\n",
      " 2   Smoking           319795 non-null  object \n",
      " 3   AlcoholDrinking   319795 non-null  object \n",
      " 4   Stroke            319795 non-null  object \n",
      " 5   PhysicalHealth    319795 non-null  float64\n",
      " 6   MentalHealth      319795 non-null  float64\n",
      " 7   DiffWalking       319795 non-null  object \n",
      " 8   Sex               319795 non-null  object \n",
      " 9   AgeCategory       319795 non-null  object \n",
      " 10  Race              319795 non-null  object \n",
      " 11  Diabetic          319795 non-null  object \n",
      " 12  PhysicalActivity  319795 non-null  object \n",
      " 13  GenHealth         319795 non-null  object \n",
      " 14  SleepTime         319795 non-null  float64\n",
      " 15  Asthma            319795 non-null  object \n",
      " 16  KidneyDisease     319795 non-null  object \n",
      " 17  SkinCancer        319795 non-null  object \n",
      "dtypes: float64(4), object(14)\n",
      "memory usage: 43.9+ MB\n"
     ]
    }
   ],
   "source": [
    "df.info()"
   ]
  },
  {
   "cell_type": "code",
   "execution_count": null,
   "id": "30f711aa",
   "metadata": {
    "hidden": true
   },
   "outputs": [],
   "source": []
  },
  {
   "cell_type": "code",
   "execution_count": 12,
   "id": "513064e7",
   "metadata": {
    "hidden": true
   },
   "outputs": [
    {
     "data": {
      "text/html": [
       "<div>\n",
       "<style scoped>\n",
       "    .dataframe tbody tr th:only-of-type {\n",
       "        vertical-align: middle;\n",
       "    }\n",
       "\n",
       "    .dataframe tbody tr th {\n",
       "        vertical-align: top;\n",
       "    }\n",
       "\n",
       "    .dataframe thead th {\n",
       "        text-align: right;\n",
       "    }\n",
       "</style>\n",
       "<table border=\"1\" class=\"dataframe\">\n",
       "  <thead>\n",
       "    <tr style=\"text-align: right;\">\n",
       "      <th></th>\n",
       "      <th>BMI</th>\n",
       "      <th>PhysicalHealth</th>\n",
       "      <th>MentalHealth</th>\n",
       "      <th>SleepTime</th>\n",
       "    </tr>\n",
       "  </thead>\n",
       "  <tbody>\n",
       "    <tr>\n",
       "      <th>count</th>\n",
       "      <td>319795.000000</td>\n",
       "      <td>319795.00000</td>\n",
       "      <td>319795.000000</td>\n",
       "      <td>319795.000000</td>\n",
       "    </tr>\n",
       "    <tr>\n",
       "      <th>mean</th>\n",
       "      <td>28.325399</td>\n",
       "      <td>3.37171</td>\n",
       "      <td>3.898366</td>\n",
       "      <td>7.097075</td>\n",
       "    </tr>\n",
       "    <tr>\n",
       "      <th>std</th>\n",
       "      <td>6.356100</td>\n",
       "      <td>7.95085</td>\n",
       "      <td>7.955235</td>\n",
       "      <td>1.436007</td>\n",
       "    </tr>\n",
       "    <tr>\n",
       "      <th>min</th>\n",
       "      <td>12.020000</td>\n",
       "      <td>0.00000</td>\n",
       "      <td>0.000000</td>\n",
       "      <td>1.000000</td>\n",
       "    </tr>\n",
       "    <tr>\n",
       "      <th>25%</th>\n",
       "      <td>24.030000</td>\n",
       "      <td>0.00000</td>\n",
       "      <td>0.000000</td>\n",
       "      <td>6.000000</td>\n",
       "    </tr>\n",
       "    <tr>\n",
       "      <th>50%</th>\n",
       "      <td>27.340000</td>\n",
       "      <td>0.00000</td>\n",
       "      <td>0.000000</td>\n",
       "      <td>7.000000</td>\n",
       "    </tr>\n",
       "    <tr>\n",
       "      <th>75%</th>\n",
       "      <td>31.420000</td>\n",
       "      <td>2.00000</td>\n",
       "      <td>3.000000</td>\n",
       "      <td>8.000000</td>\n",
       "    </tr>\n",
       "    <tr>\n",
       "      <th>max</th>\n",
       "      <td>94.850000</td>\n",
       "      <td>30.00000</td>\n",
       "      <td>30.000000</td>\n",
       "      <td>24.000000</td>\n",
       "    </tr>\n",
       "  </tbody>\n",
       "</table>\n",
       "</div>"
      ],
      "text/plain": [
       "                 BMI  PhysicalHealth   MentalHealth      SleepTime\n",
       "count  319795.000000    319795.00000  319795.000000  319795.000000\n",
       "mean       28.325399         3.37171       3.898366       7.097075\n",
       "std         6.356100         7.95085       7.955235       1.436007\n",
       "min        12.020000         0.00000       0.000000       1.000000\n",
       "25%        24.030000         0.00000       0.000000       6.000000\n",
       "50%        27.340000         0.00000       0.000000       7.000000\n",
       "75%        31.420000         2.00000       3.000000       8.000000\n",
       "max        94.850000        30.00000      30.000000      24.000000"
      ]
     },
     "execution_count": 12,
     "metadata": {},
     "output_type": "execute_result"
    }
   ],
   "source": [
    "df.describe()"
   ]
  },
  {
   "cell_type": "code",
   "execution_count": null,
   "id": "26b6d6f5",
   "metadata": {
    "hidden": true
   },
   "outputs": [],
   "source": []
  },
  {
   "cell_type": "code",
   "execution_count": 13,
   "id": "5340e52f",
   "metadata": {
    "hidden": true
   },
   "outputs": [
    {
     "data": {
      "text/html": [
       "<div>\n",
       "<style scoped>\n",
       "    .dataframe tbody tr th:only-of-type {\n",
       "        vertical-align: middle;\n",
       "    }\n",
       "\n",
       "    .dataframe tbody tr th {\n",
       "        vertical-align: top;\n",
       "    }\n",
       "\n",
       "    .dataframe thead th {\n",
       "        text-align: right;\n",
       "    }\n",
       "</style>\n",
       "<table border=\"1\" class=\"dataframe\">\n",
       "  <thead>\n",
       "    <tr style=\"text-align: right;\">\n",
       "      <th></th>\n",
       "      <th>HeartDisease</th>\n",
       "      <th>Smoking</th>\n",
       "      <th>AlcoholDrinking</th>\n",
       "      <th>Stroke</th>\n",
       "      <th>DiffWalking</th>\n",
       "      <th>Sex</th>\n",
       "      <th>AgeCategory</th>\n",
       "      <th>Race</th>\n",
       "      <th>Diabetic</th>\n",
       "      <th>PhysicalActivity</th>\n",
       "      <th>GenHealth</th>\n",
       "      <th>Asthma</th>\n",
       "      <th>KidneyDisease</th>\n",
       "      <th>SkinCancer</th>\n",
       "    </tr>\n",
       "  </thead>\n",
       "  <tbody>\n",
       "    <tr>\n",
       "      <th>count</th>\n",
       "      <td>319795</td>\n",
       "      <td>319795</td>\n",
       "      <td>319795</td>\n",
       "      <td>319795</td>\n",
       "      <td>319795</td>\n",
       "      <td>319795</td>\n",
       "      <td>319795</td>\n",
       "      <td>319795</td>\n",
       "      <td>319795</td>\n",
       "      <td>319795</td>\n",
       "      <td>319795</td>\n",
       "      <td>319795</td>\n",
       "      <td>319795</td>\n",
       "      <td>319795</td>\n",
       "    </tr>\n",
       "    <tr>\n",
       "      <th>unique</th>\n",
       "      <td>2</td>\n",
       "      <td>2</td>\n",
       "      <td>2</td>\n",
       "      <td>2</td>\n",
       "      <td>2</td>\n",
       "      <td>2</td>\n",
       "      <td>13</td>\n",
       "      <td>6</td>\n",
       "      <td>4</td>\n",
       "      <td>2</td>\n",
       "      <td>5</td>\n",
       "      <td>2</td>\n",
       "      <td>2</td>\n",
       "      <td>2</td>\n",
       "    </tr>\n",
       "    <tr>\n",
       "      <th>top</th>\n",
       "      <td>No</td>\n",
       "      <td>No</td>\n",
       "      <td>No</td>\n",
       "      <td>No</td>\n",
       "      <td>No</td>\n",
       "      <td>Female</td>\n",
       "      <td>65-69</td>\n",
       "      <td>White</td>\n",
       "      <td>No</td>\n",
       "      <td>Yes</td>\n",
       "      <td>Very good</td>\n",
       "      <td>No</td>\n",
       "      <td>No</td>\n",
       "      <td>No</td>\n",
       "    </tr>\n",
       "    <tr>\n",
       "      <th>freq</th>\n",
       "      <td>292422</td>\n",
       "      <td>187887</td>\n",
       "      <td>298018</td>\n",
       "      <td>307726</td>\n",
       "      <td>275385</td>\n",
       "      <td>167805</td>\n",
       "      <td>34151</td>\n",
       "      <td>245212</td>\n",
       "      <td>269653</td>\n",
       "      <td>247957</td>\n",
       "      <td>113858</td>\n",
       "      <td>276923</td>\n",
       "      <td>308016</td>\n",
       "      <td>289976</td>\n",
       "    </tr>\n",
       "  </tbody>\n",
       "</table>\n",
       "</div>"
      ],
      "text/plain": [
       "       HeartDisease Smoking AlcoholDrinking  Stroke DiffWalking     Sex  \\\n",
       "count        319795  319795          319795  319795      319795  319795   \n",
       "unique            2       2               2       2           2       2   \n",
       "top              No      No              No      No          No  Female   \n",
       "freq         292422  187887          298018  307726      275385  167805   \n",
       "\n",
       "       AgeCategory    Race Diabetic PhysicalActivity  GenHealth  Asthma  \\\n",
       "count       319795  319795   319795           319795     319795  319795   \n",
       "unique          13       6        4                2          5       2   \n",
       "top          65-69   White       No              Yes  Very good      No   \n",
       "freq         34151  245212   269653           247957     113858  276923   \n",
       "\n",
       "       KidneyDisease SkinCancer  \n",
       "count         319795     319795  \n",
       "unique             2          2  \n",
       "top               No         No  \n",
       "freq          308016     289976  "
      ]
     },
     "execution_count": 13,
     "metadata": {},
     "output_type": "execute_result"
    }
   ],
   "source": [
    "df.describe(include='object')"
   ]
  },
  {
   "cell_type": "code",
   "execution_count": null,
   "id": "7acd30cf",
   "metadata": {
    "hidden": true
   },
   "outputs": [],
   "source": []
  },
  {
   "cell_type": "code",
   "execution_count": 14,
   "id": "fd6ff675",
   "metadata": {
    "hidden": true
   },
   "outputs": [
    {
     "data": {
      "text/html": [
       "<div>\n",
       "<style scoped>\n",
       "    .dataframe tbody tr th:only-of-type {\n",
       "        vertical-align: middle;\n",
       "    }\n",
       "\n",
       "    .dataframe tbody tr th {\n",
       "        vertical-align: top;\n",
       "    }\n",
       "\n",
       "    .dataframe thead th {\n",
       "        text-align: right;\n",
       "    }\n",
       "</style>\n",
       "<table border=\"1\" class=\"dataframe\">\n",
       "  <thead>\n",
       "    <tr style=\"text-align: right;\">\n",
       "      <th></th>\n",
       "      <th>BMI</th>\n",
       "      <th>PhysicalHealth</th>\n",
       "      <th>MentalHealth</th>\n",
       "      <th>SleepTime</th>\n",
       "    </tr>\n",
       "  </thead>\n",
       "  <tbody>\n",
       "    <tr>\n",
       "      <th>BMI</th>\n",
       "      <td>1.000000</td>\n",
       "      <td>0.109788</td>\n",
       "      <td>0.064131</td>\n",
       "      <td>-0.051822</td>\n",
       "    </tr>\n",
       "    <tr>\n",
       "      <th>PhysicalHealth</th>\n",
       "      <td>0.109788</td>\n",
       "      <td>1.000000</td>\n",
       "      <td>0.287987</td>\n",
       "      <td>-0.061387</td>\n",
       "    </tr>\n",
       "    <tr>\n",
       "      <th>MentalHealth</th>\n",
       "      <td>0.064131</td>\n",
       "      <td>0.287987</td>\n",
       "      <td>1.000000</td>\n",
       "      <td>-0.119717</td>\n",
       "    </tr>\n",
       "    <tr>\n",
       "      <th>SleepTime</th>\n",
       "      <td>-0.051822</td>\n",
       "      <td>-0.061387</td>\n",
       "      <td>-0.119717</td>\n",
       "      <td>1.000000</td>\n",
       "    </tr>\n",
       "  </tbody>\n",
       "</table>\n",
       "</div>"
      ],
      "text/plain": [
       "                     BMI  PhysicalHealth  MentalHealth  SleepTime\n",
       "BMI             1.000000        0.109788      0.064131  -0.051822\n",
       "PhysicalHealth  0.109788        1.000000      0.287987  -0.061387\n",
       "MentalHealth    0.064131        0.287987      1.000000  -0.119717\n",
       "SleepTime      -0.051822       -0.061387     -0.119717   1.000000"
      ]
     },
     "execution_count": 14,
     "metadata": {},
     "output_type": "execute_result"
    }
   ],
   "source": [
    "df.corr()"
   ]
  },
  {
   "cell_type": "code",
   "execution_count": null,
   "id": "4e24675f",
   "metadata": {
    "hidden": true
   },
   "outputs": [],
   "source": []
  },
  {
   "cell_type": "code",
   "execution_count": 15,
   "id": "652f16b5",
   "metadata": {
    "hidden": true
   },
   "outputs": [],
   "source": [
    "l=df.shape[0] ## no of observations"
   ]
  },
  {
   "cell_type": "markdown",
   "id": "5670a18c",
   "metadata": {
    "heading_collapsed": true,
    "hidden": true
   },
   "source": [
    "### Target (HeartDisease)"
   ]
  },
  {
   "cell_type": "code",
   "execution_count": 16,
   "id": "1ad97c2c",
   "metadata": {
    "hidden": true
   },
   "outputs": [
    {
     "data": {
      "text/plain": [
       "No     91.440454\n",
       "Yes     8.559546\n",
       "Name: HeartDisease, dtype: float64"
      ]
     },
     "execution_count": 16,
     "metadata": {},
     "output_type": "execute_result"
    }
   ],
   "source": [
    "df['HeartDisease'].value_counts()/l*100"
   ]
  },
  {
   "cell_type": "code",
   "execution_count": 17,
   "id": "e86dae89",
   "metadata": {
    "hidden": true
   },
   "outputs": [],
   "source": [
    "## 8.5% are at a risk of heart disease out of the total(319795). So we have to keep this in mind that it is a imbalanced dataset"
   ]
  },
  {
   "cell_type": "code",
   "execution_count": null,
   "id": "6ac51d71",
   "metadata": {
    "hidden": true
   },
   "outputs": [],
   "source": []
  },
  {
   "cell_type": "markdown",
   "id": "5edc7426",
   "metadata": {
    "hidden": true
   },
   "source": [
    "### Features"
   ]
  },
  {
   "cell_type": "code",
   "execution_count": 18,
   "id": "f21356e0",
   "metadata": {
    "hidden": true
   },
   "outputs": [],
   "source": [
    "dummy_df=df.copy()"
   ]
  },
  {
   "cell_type": "code",
   "execution_count": 19,
   "id": "6dcf5169",
   "metadata": {
    "hidden": true
   },
   "outputs": [],
   "source": [
    "dummy_df.loc[dummy_df['HeartDisease'] =='Yes','HeartDisease']=1\n",
    "dummy_df.loc[dummy_df['HeartDisease'] == 'No','HeartDisease']=0"
   ]
  },
  {
   "cell_type": "code",
   "execution_count": null,
   "id": "da0c0afd",
   "metadata": {
    "hidden": true
   },
   "outputs": [],
   "source": []
  },
  {
   "cell_type": "markdown",
   "id": "2c963531",
   "metadata": {
    "hidden": true
   },
   "source": [
    "#### BMI"
   ]
  },
  {
   "cell_type": "code",
   "execution_count": 20,
   "id": "d0d46bbd",
   "metadata": {
    "hidden": true
   },
   "outputs": [
    {
     "data": {
      "text/plain": [
       "count    319795.000000\n",
       "mean         28.325399\n",
       "std           6.356100\n",
       "min          12.020000\n",
       "25%          24.030000\n",
       "50%          27.340000\n",
       "75%          31.420000\n",
       "max          94.850000\n",
       "Name: BMI, dtype: float64"
      ]
     },
     "execution_count": 20,
     "metadata": {},
     "output_type": "execute_result"
    }
   ],
   "source": [
    "df['BMI'].describe()"
   ]
  },
  {
   "cell_type": "code",
   "execution_count": 21,
   "id": "667027ca",
   "metadata": {
    "hidden": true
   },
   "outputs": [
    {
     "data": {
      "text/plain": [
       "<AxesSubplot:xlabel='BMI'>"
      ]
     },
     "execution_count": 21,
     "metadata": {},
     "output_type": "execute_result"
    },
    {
     "data": {
      "image/png": "[encoded data removed]",
      "text/plain": [
       "<Figure size 432x288 with 1 Axes>"
      ]
     },
     "metadata": {
      "needs_background": "light"
     },
     "output_type": "display_data"
    }
   ],
   "source": [
    "sns.boxplot(data=df, x='BMI')"
   ]
  },
  {
   "cell_type": "code",
   "execution_count": 22,
   "id": "fa13ae43",
   "metadata": {
    "hidden": true
   },
   "outputs": [],
   "source": [
    "## it has a lot of spread in the data, let us make it categorical based on the health industry specifications"
   ]
  },
  {
   "cell_type": "code",
   "execution_count": 6,
   "id": "b51b0e6c",
   "metadata": {
    "hidden": true
   },
   "outputs": [],
   "source": [
    "t=df['BMI']\n",
    "cond = [(t.between(0,18.5)),(t.between(18.5,24.9)),(t.between(24.9,29.9)),(t.between(29.9,34.9)), (t.between(34.9,100))]\n",
    "\n",
    "labels = ['Uwt','N','Owt','O','EO']    # Uwt-underweight, N-normal, Owt-overweight, O-Obese, EO-extremely obese \n",
    "\n",
    "df['BMI_cat'] = np.select(cond,labels)"
   ]
  },
  {
   "cell_type": "code",
   "execution_count": 7,
   "id": "70fd1b43",
   "metadata": {
    "hidden": true
   },
   "outputs": [],
   "source": [
    "df.drop(columns=['BMI'],inplace=True)"
   ]
  },
  {
   "cell_type": "code",
   "execution_count": null,
   "id": "cd6c9520",
   "metadata": {
    "hidden": true
   },
   "outputs": [],
   "source": []
  },
  {
   "cell_type": "code",
   "execution_count": 8,
   "id": "3a9bc0a8",
   "metadata": {
    "hidden": true
   },
   "outputs": [
    {
     "data": {
      "text/plain": [
       "Owt    114752\n",
       "N       95134\n",
       "O       62172\n",
       "EO      42623\n",
       "Uwt      5114\n",
       "Name: BMI_cat, dtype: int64"
      ]
     },
     "execution_count": 8,
     "metadata": {},
     "output_type": "execute_result"
    }
   ],
   "source": [
    "df['BMI_cat'].value_counts()"
   ]
  },
  {
   "cell_type": "code",
   "execution_count": 26,
   "id": "9de0d370",
   "metadata": {
    "hidden": true
   },
   "outputs": [],
   "source": [
    "## we have more people that are overweight which matches with the avg BMI of the US, where the data is from"
   ]
  },
  {
   "cell_type": "code",
   "execution_count": null,
   "id": "a0eaf32f",
   "metadata": {
    "hidden": true
   },
   "outputs": [],
   "source": []
  },
  {
   "cell_type": "code",
   "execution_count": 27,
   "id": "036e56e2",
   "metadata": {
    "hidden": true
   },
   "outputs": [],
   "source": [
    "dummy_df['BMI_cat']=df['BMI_cat']\n",
    "t1=dummy_df[[\"HeartDisease\",'BMI_cat']].groupby(['BMI_cat'],as_index=False).mean()"
   ]
  },
  {
   "cell_type": "code",
   "execution_count": 28,
   "id": "abf36c22",
   "metadata": {
    "hidden": true
   },
   "outputs": [
    {
     "data": {
      "text/plain": [
       "<AxesSubplot:xlabel='BMI_cat', ylabel='HeartDisease'>"
      ]
     },
     "execution_count": 28,
     "metadata": {},
     "output_type": "execute_result"
    },
    {
     "data": {
      "image/png": "[encoded data removed]",
      "text/plain": [
       "<Figure size 432x288 with 1 Axes>"
      ]
     },
     "metadata": {
      "needs_background": "light"
     },
     "output_type": "display_data"
    }
   ],
   "source": [
    "sns.barplot(data=t1.sort_values(by='HeartDisease'),x='BMI_cat',y='HeartDisease')"
   ]
  },
  {
   "cell_type": "code",
   "execution_count": 29,
   "id": "82f0f752",
   "metadata": {
    "hidden": true
   },
   "outputs": [],
   "source": [
    "## here we see that Extremely obese people have higher risk of heart disease, also underweight people also have it higher than\n",
    "## normal ones, which some recent studies also show"
   ]
  },
  {
   "cell_type": "code",
   "execution_count": null,
   "id": "08a1a4df",
   "metadata": {
    "hidden": true
   },
   "outputs": [],
   "source": []
  },
  {
   "cell_type": "markdown",
   "id": "97bfee67",
   "metadata": {
    "heading_collapsed": true,
    "hidden": true
   },
   "source": [
    "#### PhysicalHealth"
   ]
  },
  {
   "cell_type": "code",
   "execution_count": 30,
   "id": "3b3afc95",
   "metadata": {
    "hidden": true
   },
   "outputs": [
    {
     "data": {
      "text/plain": [
       "count    319795.00000\n",
       "mean          3.37171\n",
       "std           7.95085\n",
       "min           0.00000\n",
       "25%           0.00000\n",
       "50%           0.00000\n",
       "75%           2.00000\n",
       "max          30.00000\n",
       "Name: PhysicalHealth, dtype: float64"
      ]
     },
     "execution_count": 30,
     "metadata": {},
     "output_type": "execute_result"
    }
   ],
   "source": [
    "df['PhysicalHealth'].describe()"
   ]
  },
  {
   "cell_type": "code",
   "execution_count": 31,
   "id": "cee10145",
   "metadata": {
    "hidden": true
   },
   "outputs": [
    {
     "data": {
      "text/plain": [
       "<AxesSubplot:xlabel='PhysicalHealth'>"
      ]
     },
     "execution_count": 31,
     "metadata": {},
     "output_type": "execute_result"
    },
    {
     "data": {
      "image/png": "[encoded data removed]",
      "text/plain": [
       "<Figure size 432x288 with 1 Axes>"
      ]
     },
     "metadata": {
      "needs_background": "light"
     },
     "output_type": "display_data"
    }
   ],
   "source": [
    "sns.boxplot(data=df, x='PhysicalHealth')"
   ]
  },
  {
   "cell_type": "code",
   "execution_count": null,
   "id": "eaac8c0c",
   "metadata": {
    "hidden": true
   },
   "outputs": [],
   "source": []
  },
  {
   "cell_type": "code",
   "execution_count": null,
   "id": "ed9d7380",
   "metadata": {
    "hidden": true
   },
   "outputs": [],
   "source": []
  },
  {
   "cell_type": "code",
   "execution_count": 32,
   "id": "82dd96c6",
   "metadata": {
    "hidden": true
   },
   "outputs": [
    {
     "data": {
      "text/plain": [
       "<AxesSubplot:xlabel='PhysicalHealth', ylabel='Density'>"
      ]
     },
     "execution_count": 32,
     "metadata": {},
     "output_type": "execute_result"
    },
    {
     "data": {
      "image/png": "[encoded data removed]",
      "text/plain": [
       "<Figure size 1080x576 with 1 Axes>"
      ]
     },
     "metadata": {
      "needs_background": "light"
     },
     "output_type": "display_data"
    }
   ],
   "source": [
    "fig, ax = plt.subplots(figsize = (15,8))\n",
    "sns.kdeplot(data=df, x='PhysicalHealth', hue='HeartDisease', fill=True, palette=\"crest\", alpha=.5, linewidth=0)"
   ]
  },
  {
   "cell_type": "code",
   "execution_count": 33,
   "id": "07019f42",
   "metadata": {
    "hidden": true
   },
   "outputs": [],
   "source": [
    "## here the plots [P(X|Y=No)P(Y=No) and P(X|Y=Yes)P(Y=Yes), where X is the PhysicalHealth] take into account the prior prob of\n",
    "## each class(P(Y=No) and P(Y=Yes) respectively),thus due to the imbalance, the prob plot for the majority class would always \n",
    "## be higher than the minority.\n",
    "## { \n",
    "##   Due to this reason only a classifier predicting based on the baysian prob [P(Y=Yes|X) = P(X|Y=Yes)P(Y=Yes)/P(X) and \n",
    "##   P(Y=No|X) = P(X|Y=No)P(Y=No)] would choose the majority class only and get high accuracy [since P(Y=No|X) > P(Y=Yes|X), i.e., 'No' class is always more likely than the 'Yes' class for a given X]\n",
    "## }"
   ]
  },
  {
   "cell_type": "code",
   "execution_count": 34,
   "id": "0088b9ef",
   "metadata": {
    "hidden": true
   },
   "outputs": [],
   "source": [
    "## Thus let us look the the probability independently for the classes (P(X|Y=No) and P(X|Y=Yes)), i.e., not taking into \n",
    "## account the prior prob, to better see the effect of X on the classes"
   ]
  },
  {
   "cell_type": "code",
   "execution_count": null,
   "id": "6e9b8b5d",
   "metadata": {
    "hidden": true
   },
   "outputs": [],
   "source": []
  },
  {
   "cell_type": "code",
   "execution_count": 35,
   "id": "a97c7e1e",
   "metadata": {
    "hidden": true
   },
   "outputs": [
    {
     "data": {
      "text/plain": [
       "<AxesSubplot:xlabel='PhysicalHealth', ylabel='Density'>"
      ]
     },
     "execution_count": 35,
     "metadata": {},
     "output_type": "execute_result"
    },
    {
     "data": {
      "image/png": "[encoded data removed]",
      "text/plain": [
       "<Figure size 1080x576 with 1 Axes>"
      ]
     },
     "metadata": {
      "needs_background": "light"
     },
     "output_type": "display_data"
    }
   ],
   "source": [
    "fig, ax = plt.subplots(figsize = (15,8))\n",
    "sns.kdeplot(data=df, x='PhysicalHealth', hue='HeartDisease', fill=True, common_norm=False, palette=\"crest\", alpha=.5, linewidth=0)"
   ]
  },
  {
   "cell_type": "code",
   "execution_count": 36,
   "id": "36fb34f8",
   "metadata": {
    "hidden": true
   },
   "outputs": [],
   "source": [
    "## From this plot we can see that the prob for people with heart disease being healthy for the pass 30 days (X=0) is lower than\n",
    "## the people with no heart disease, whereas it increases above that and is much more near the 30 mark (ill past 30 days)"
   ]
  },
  {
   "cell_type": "code",
   "execution_count": 37,
   "id": "9008a9f7",
   "metadata": {
    "hidden": true
   },
   "outputs": [
    {
     "data": {
      "text/plain": [
       "<AxesSubplot:xlabel='HeartDisease', ylabel='PhysicalHealth'>"
      ]
     },
     "execution_count": 37,
     "metadata": {},
     "output_type": "execute_result"
    },
    {
     "data": {
      "image/png": "[encoded data removed]",
      "text/plain": [
       "<Figure size 432x288 with 1 Axes>"
      ]
     },
     "metadata": {
      "needs_background": "light"
     },
     "output_type": "display_data"
    }
   ],
   "source": [
    "sns.barplot(y='PhysicalHealth',data=df,x='HeartDisease')"
   ]
  },
  {
   "cell_type": "code",
   "execution_count": 38,
   "id": "9658bc8f",
   "metadata": {
    "hidden": true
   },
   "outputs": [],
   "source": [
    "## the mean sick days(in 30 days) are significantly higher for people with heart disease"
   ]
  },
  {
   "cell_type": "markdown",
   "id": "e72e03dc",
   "metadata": {
    "heading_collapsed": true,
    "hidden": true
   },
   "source": [
    "#### MentalHealth"
   ]
  },
  {
   "cell_type": "code",
   "execution_count": 39,
   "id": "6ec16387",
   "metadata": {
    "hidden": true
   },
   "outputs": [
    {
     "data": {
      "text/plain": [
       "count    319795.000000\n",
       "mean          3.898366\n",
       "std           7.955235\n",
       "min           0.000000\n",
       "25%           0.000000\n",
       "50%           0.000000\n",
       "75%           3.000000\n",
       "max          30.000000\n",
       "Name: MentalHealth, dtype: float64"
      ]
     },
     "execution_count": 39,
     "metadata": {},
     "output_type": "execute_result"
    }
   ],
   "source": [
    "df['MentalHealth'].describe()"
   ]
  },
  {
   "cell_type": "code",
   "execution_count": 40,
   "id": "5fd80374",
   "metadata": {
    "hidden": true
   },
   "outputs": [
    {
     "data": {
      "text/plain": [
       "<AxesSubplot:xlabel='MentalHealth'>"
      ]
     },
     "execution_count": 40,
     "metadata": {},
     "output_type": "execute_result"
    },
    {
     "data": {
      "image/png": "[encoded data removed]",
      "text/plain": [
       "<Figure size 432x288 with 1 Axes>"
      ]
     },
     "metadata": {
      "needs_background": "light"
     },
     "output_type": "display_data"
    }
   ],
   "source": [
    "sns.boxplot(data=df, x='MentalHealth')"
   ]
  },
  {
   "cell_type": "code",
   "execution_count": 41,
   "id": "398ad873",
   "metadata": {
    "hidden": true
   },
   "outputs": [
    {
     "data": {
      "text/plain": [
       "<AxesSubplot:xlabel='MentalHealth', ylabel='Density'>"
      ]
     },
     "execution_count": 41,
     "metadata": {},
     "output_type": "execute_result"
    },
    {
     "data": {
      "image/png": "[encoded data removed]",
      "text/plain": [
       "<Figure size 1080x576 with 1 Axes>"
      ]
     },
     "metadata": {
      "needs_background": "light"
     },
     "output_type": "display_data"
    }
   ],
   "source": [
    "fig, ax = plt.subplots(figsize = (15,8))\n",
    "sns.kdeplot(data=df, x='MentalHealth', hue='HeartDisease', fill=True, common_norm=False, palette=\"crest\", alpha=.5, linewidth=0)"
   ]
  },
  {
   "cell_type": "code",
   "execution_count": 42,
   "id": "83fed305",
   "metadata": {
    "hidden": true
   },
   "outputs": [],
   "source": [
    "## even for more days of bad mental health the prob is around the same or even lower for heart disease people than the ones\n",
    "## with no heart problem, a reason for that could be that many people nowadays face bad mental health problems, but all wont\n",
    "## have the heart problem."
   ]
  },
  {
   "cell_type": "code",
   "execution_count": null,
   "id": "3e6ccfab",
   "metadata": {
    "hidden": true
   },
   "outputs": [],
   "source": []
  },
  {
   "cell_type": "code",
   "execution_count": 43,
   "id": "17c16738",
   "metadata": {
    "hidden": true
   },
   "outputs": [
    {
     "data": {
      "text/plain": [
       "<AxesSubplot:xlabel='HeartDisease', ylabel='MentalHealth'>"
      ]
     },
     "execution_count": 43,
     "metadata": {},
     "output_type": "execute_result"
    },
    {
     "data": {
      "image/png": "[encoded data removed]",
      "text/plain": [
       "<Figure size 432x288 with 1 Axes>"
      ]
     },
     "metadata": {
      "needs_background": "light"
     },
     "output_type": "display_data"
    }
   ],
   "source": [
    "sns.barplot(y='MentalHealth',data=df,x='HeartDisease')"
   ]
  },
  {
   "cell_type": "code",
   "execution_count": 44,
   "id": "b089a5c0",
   "metadata": {
    "hidden": true
   },
   "outputs": [],
   "source": [
    "## The difference in mean days for bad mental health is also around the same for both the cases, which could mean that mental \n",
    "## health might not be a big factor for the heart disease, and thus we can drop it for the model"
   ]
  },
  {
   "cell_type": "code",
   "execution_count": 9,
   "id": "0617e2ed",
   "metadata": {
    "hidden": true
   },
   "outputs": [],
   "source": [
    "df.drop(columns='MentalHealth', inplace=True)"
   ]
  },
  {
   "cell_type": "code",
   "execution_count": null,
   "id": "b96b6cc0",
   "metadata": {
    "hidden": true
   },
   "outputs": [],
   "source": []
  },
  {
   "cell_type": "code",
   "execution_count": null,
   "id": "03dc40cf",
   "metadata": {
    "hidden": true
   },
   "outputs": [],
   "source": []
  },
  {
   "cell_type": "markdown",
   "id": "3a73b925",
   "metadata": {
    "hidden": true
   },
   "source": [
    "#### SleepTime"
   ]
  },
  {
   "cell_type": "code",
   "execution_count": 46,
   "id": "5e8d21fa",
   "metadata": {
    "hidden": true
   },
   "outputs": [
    {
     "data": {
      "text/plain": [
       "count    319795.000000\n",
       "mean          7.097075\n",
       "std           1.436007\n",
       "min           1.000000\n",
       "25%           6.000000\n",
       "50%           7.000000\n",
       "75%           8.000000\n",
       "max          24.000000\n",
       "Name: SleepTime, dtype: float64"
      ]
     },
     "execution_count": 46,
     "metadata": {},
     "output_type": "execute_result"
    }
   ],
   "source": [
    "df['SleepTime'].describe()"
   ]
  },
  {
   "cell_type": "code",
   "execution_count": 47,
   "id": "806044bd",
   "metadata": {
    "hidden": true
   },
   "outputs": [],
   "source": [
    "## the max is 24! The central value is around 7 hours"
   ]
  },
  {
   "cell_type": "code",
   "execution_count": 48,
   "id": "68d615e0",
   "metadata": {
    "hidden": true
   },
   "outputs": [
    {
     "data": {
      "text/plain": [
       "7.0     97751\n",
       "8.0     97602\n",
       "6.0     66721\n",
       "5.0     19184\n",
       "9.0     16041\n",
       "10.0     7796\n",
       "4.0      7750\n",
       "12.0     2205\n",
       "3.0      1992\n",
       "2.0       788\n",
       "1.0       551\n",
       "11.0      415\n",
       "14.0      243\n",
       "16.0      236\n",
       "15.0      189\n",
       "18.0      102\n",
       "13.0       97\n",
       "20.0       64\n",
       "24.0       30\n",
       "17.0       21\n",
       "22.0        9\n",
       "19.0        3\n",
       "23.0        3\n",
       "21.0        2\n",
       "Name: SleepTime, dtype: int64"
      ]
     },
     "execution_count": 48,
     "metadata": {},
     "output_type": "execute_result"
    }
   ],
   "source": [
    "df['SleepTime'].value_counts()"
   ]
  },
  {
   "cell_type": "code",
   "execution_count": 49,
   "id": "f3c92309",
   "metadata": {
    "hidden": true
   },
   "outputs": [
    {
     "data": {
      "text/plain": [
       "<AxesSubplot:xlabel='SleepTime'>"
      ]
     },
     "execution_count": 49,
     "metadata": {},
     "output_type": "execute_result"
    },
    {
     "data": {
      "image/png": "[encoded data removed]",
      "text/plain": [
       "<Figure size 432x288 with 1 Axes>"
      ]
     },
     "metadata": {
      "needs_background": "light"
     },
     "output_type": "display_data"
    }
   ],
   "source": [
    "sns.boxplot(data=df, x='SleepTime')"
   ]
  },
  {
   "cell_type": "code",
   "execution_count": 50,
   "id": "9e4c1ad1",
   "metadata": {
    "hidden": true
   },
   "outputs": [
    {
     "data": {
      "text/plain": [
       "<AxesSubplot:xlabel='SleepTime', ylabel='Density'>"
      ]
     },
     "execution_count": 50,
     "metadata": {},
     "output_type": "execute_result"
    },
    {
     "data": {
      "image/png": "[encoded data removed]",
      "text/plain": [
       "<Figure size 1080x576 with 1 Axes>"
      ]
     },
     "metadata": {
      "needs_background": "light"
     },
     "output_type": "display_data"
    }
   ],
   "source": [
    "fig, ax = plt.subplots(figsize = (15,8))\n",
    "sns.kdeplot(data=df, x='SleepTime', hue='HeartDisease', fill=True, common_norm=False, palette=\"crest\", alpha=.5, linewidth=0)"
   ]
  },
  {
   "cell_type": "code",
   "execution_count": 51,
   "id": "a2321b1a",
   "metadata": {
    "hidden": true
   },
   "outputs": [],
   "source": [
    "t2=dummy_df[[\"HeartDisease\",'SleepTime']].groupby(['SleepTime'],as_index=False).mean()"
   ]
  },
  {
   "cell_type": "code",
   "execution_count": 52,
   "id": "e43e6cb4",
   "metadata": {
    "hidden": true
   },
   "outputs": [
    {
     "data": {
      "text/plain": [
       "<AxesSubplot:xlabel='SleepTime', ylabel='HeartDisease'>"
      ]
     },
     "execution_count": 52,
     "metadata": {},
     "output_type": "execute_result"
    },
    {
     "data": {
      "image/png": "[encoded data removed]",
      "text/plain": [
       "<Figure size 1080x576 with 1 Axes>"
      ]
     },
     "metadata": {
      "needs_background": "light"
     },
     "output_type": "display_data"
    }
   ],
   "source": [
    "fig, ax = plt.subplots(figsize = (15,8))\n",
    "sns.barplot(data=t2.sort_values(by='HeartDisease'),x='SleepTime',y='HeartDisease')"
   ]
  },
  {
   "cell_type": "code",
   "execution_count": 53,
   "id": "2fb6e0e2",
   "metadata": {
    "hidden": true
   },
   "outputs": [],
   "source": [
    "## we can see from the above plots that the people with less sleep time or more than the avg sleep time (7hrs) have higher\n",
    "## risk of heart disease"
   ]
  },
  {
   "cell_type": "code",
   "execution_count": 54,
   "id": "618a7fee",
   "metadata": {
    "hidden": true
   },
   "outputs": [],
   "source": [
    "## Considering the spread and the outliers & also its trend on the target, it would be best to bin this feature"
   ]
  },
  {
   "cell_type": "code",
   "execution_count": 10,
   "id": "2c3d66fe",
   "metadata": {
    "hidden": true
   },
   "outputs": [],
   "source": [
    "st=df['SleepTime']\n",
    "cond = [(st.between(0,6)),(st.between(6,9)),(st.between(9,24))]\n",
    "\n",
    "labels = ['Low','Normal','High']\n",
    "\n",
    "df['SleepTime_cat'] = np.select(cond,labels)"
   ]
  },
  {
   "cell_type": "code",
   "execution_count": 11,
   "id": "cf1351d7",
   "metadata": {
    "hidden": true
   },
   "outputs": [],
   "source": [
    "df.drop(columns=['SleepTime'],inplace=True)"
   ]
  },
  {
   "cell_type": "code",
   "execution_count": null,
   "id": "4803662f",
   "metadata": {
    "hidden": true
   },
   "outputs": [],
   "source": []
  },
  {
   "cell_type": "code",
   "execution_count": 12,
   "id": "e78518a4",
   "metadata": {
    "hidden": true
   },
   "outputs": [
    {
     "data": {
      "text/plain": [
       "Normal    211394\n",
       "Low        96986\n",
       "High       11415\n",
       "Name: SleepTime_cat, dtype: int64"
      ]
     },
     "execution_count": 12,
     "metadata": {},
     "output_type": "execute_result"
    }
   ],
   "source": [
    "df['SleepTime_cat'].value_counts()"
   ]
  },
  {
   "cell_type": "code",
   "execution_count": null,
   "id": "a5eaead4",
   "metadata": {
    "hidden": true
   },
   "outputs": [],
   "source": []
  },
  {
   "cell_type": "code",
   "execution_count": 58,
   "id": "e631effc",
   "metadata": {
    "hidden": true
   },
   "outputs": [],
   "source": [
    "dummy_df['SleepTime_cat']=df['SleepTime_cat']\n",
    "t3=dummy_df[[\"HeartDisease\",'SleepTime_cat']].groupby(['SleepTime_cat'],as_index=False).mean()"
   ]
  },
  {
   "cell_type": "code",
   "execution_count": 59,
   "id": "4abe97eb",
   "metadata": {
    "hidden": true
   },
   "outputs": [
    {
     "data": {
      "text/plain": [
       "<AxesSubplot:xlabel='SleepTime_cat', ylabel='HeartDisease'>"
      ]
     },
     "execution_count": 59,
     "metadata": {},
     "output_type": "execute_result"
    },
    {
     "data": {
      "image/png": "[encoded data removed]",
      "text/plain": [
       "<Figure size 432x288 with 1 Axes>"
      ]
     },
     "metadata": {
      "needs_background": "light"
     },
     "output_type": "display_data"
    }
   ],
   "source": [
    "sns.barplot(data=t3.sort_values(by='HeartDisease'),x='SleepTime_cat',y='HeartDisease')"
   ]
  },
  {
   "cell_type": "code",
   "execution_count": null,
   "id": "27989cad",
   "metadata": {
    "hidden": true
   },
   "outputs": [],
   "source": []
  },
  {
   "cell_type": "code",
   "execution_count": null,
   "id": "e343d2fe",
   "metadata": {
    "hidden": true
   },
   "outputs": [],
   "source": []
  },
  {
   "cell_type": "code",
   "execution_count": null,
   "id": "663f7687",
   "metadata": {
    "hidden": true
   },
   "outputs": [],
   "source": []
  },
  {
   "cell_type": "markdown",
   "id": "41d9470c",
   "metadata": {
    "heading_collapsed": true,
    "hidden": true
   },
   "source": [
    "#### Smoking"
   ]
  },
  {
   "cell_type": "code",
   "execution_count": 60,
   "id": "ddc1194c",
   "metadata": {
    "hidden": true
   },
   "outputs": [
    {
     "data": {
      "text/plain": [
       "No     187887\n",
       "Yes    131908\n",
       "Name: Smoking, dtype: int64"
      ]
     },
     "execution_count": 60,
     "metadata": {},
     "output_type": "execute_result"
    }
   ],
   "source": [
    "df['Smoking'].value_counts()"
   ]
  },
  {
   "cell_type": "code",
   "execution_count": null,
   "id": "92cc2239",
   "metadata": {
    "hidden": true
   },
   "outputs": [],
   "source": []
  },
  {
   "cell_type": "code",
   "execution_count": 61,
   "id": "07dacc1e",
   "metadata": {
    "hidden": true
   },
   "outputs": [],
   "source": [
    "t4=dummy_df[[\"HeartDisease\",'Smoking']].groupby(['Smoking'],as_index=False).mean()"
   ]
  },
  {
   "cell_type": "code",
   "execution_count": 62,
   "id": "64870080",
   "metadata": {
    "hidden": true
   },
   "outputs": [
    {
     "data": {
      "text/plain": [
       "<AxesSubplot:xlabel='Smoking', ylabel='HeartDisease'>"
      ]
     },
     "execution_count": 62,
     "metadata": {},
     "output_type": "execute_result"
    },
    {
     "data": {
      "image/png": "[encoded data removed]",
      "text/plain": [
       "<Figure size 432x288 with 1 Axes>"
      ]
     },
     "metadata": {
      "needs_background": "light"
     },
     "output_type": "display_data"
    }
   ],
   "source": [
    "sns.barplot(data=t4.sort_values(by='HeartDisease'),x='Smoking',y='HeartDisease')"
   ]
  },
  {
   "cell_type": "code",
   "execution_count": 63,
   "id": "b466f9a5",
   "metadata": {
    "hidden": true
   },
   "outputs": [],
   "source": [
    "## Smoking leads to greater heart risk. Another reason to quit it!"
   ]
  },
  {
   "cell_type": "code",
   "execution_count": null,
   "id": "84b8d8d7",
   "metadata": {
    "hidden": true
   },
   "outputs": [],
   "source": []
  },
  {
   "cell_type": "markdown",
   "id": "1016bd36",
   "metadata": {
    "heading_collapsed": true,
    "hidden": true
   },
   "source": [
    "#### AlcoholDrinking"
   ]
  },
  {
   "cell_type": "code",
   "execution_count": 64,
   "id": "51862931",
   "metadata": {
    "hidden": true
   },
   "outputs": [
    {
     "data": {
      "text/plain": [
       "No     93.190325\n",
       "Yes     6.809675\n",
       "Name: AlcoholDrinking, dtype: float64"
      ]
     },
     "execution_count": 64,
     "metadata": {},
     "output_type": "execute_result"
    }
   ],
   "source": [
    "df['AlcoholDrinking'].value_counts()/l*100"
   ]
  },
  {
   "cell_type": "code",
   "execution_count": null,
   "id": "92d22e7e",
   "metadata": {
    "hidden": true
   },
   "outputs": [],
   "source": []
  },
  {
   "cell_type": "code",
   "execution_count": 65,
   "id": "9f53e121",
   "metadata": {
    "hidden": true
   },
   "outputs": [],
   "source": [
    "t5=dummy_df[[\"HeartDisease\",'AlcoholDrinking']].groupby(['AlcoholDrinking'],as_index=False).mean()"
   ]
  },
  {
   "cell_type": "code",
   "execution_count": 66,
   "id": "c0f66702",
   "metadata": {
    "hidden": true
   },
   "outputs": [
    {
     "data": {
      "text/plain": [
       "<AxesSubplot:xlabel='AlcoholDrinking', ylabel='HeartDisease'>"
      ]
     },
     "execution_count": 66,
     "metadata": {},
     "output_type": "execute_result"
    },
    {
     "data": {
      "image/png": "[encoded data removed]",
      "text/plain": [
       "<Figure size 432x288 with 1 Axes>"
      ]
     },
     "metadata": {
      "needs_background": "light"
     },
     "output_type": "display_data"
    }
   ],
   "source": [
    "sns.barplot(data=t5.sort_values(by='HeartDisease'),x='AlcoholDrinking',y='HeartDisease')"
   ]
  },
  {
   "cell_type": "code",
   "execution_count": 67,
   "id": "d24cdf5f",
   "metadata": {
    "hidden": true
   },
   "outputs": [],
   "source": [
    "## Since there are very few heavy drinkers (6.8%), so people with high heart problem risk dont look to be influenced by heavy drinking"
   ]
  },
  {
   "cell_type": "code",
   "execution_count": 68,
   "id": "18333ab3",
   "metadata": {
    "hidden": true
   },
   "outputs": [
    {
     "data": {
      "text/plain": [
       "No     20636\n",
       "Yes     1141\n",
       "Name: HeartDisease, dtype: int64"
      ]
     },
     "execution_count": 68,
     "metadata": {},
     "output_type": "execute_result"
    }
   ],
   "source": [
    "df[df['AlcoholDrinking']=='Yes']['HeartDisease'].value_counts()"
   ]
  },
  {
   "cell_type": "code",
   "execution_count": 69,
   "id": "cb8f31af",
   "metadata": {
    "hidden": true
   },
   "outputs": [
    {
     "data": {
      "text/plain": [
       "No     292422\n",
       "Yes     27373\n",
       "Name: HeartDisease, dtype: int64"
      ]
     },
     "execution_count": 69,
     "metadata": {},
     "output_type": "execute_result"
    }
   ],
   "source": [
    "df['HeartDisease'].value_counts()"
   ]
  },
  {
   "cell_type": "code",
   "execution_count": 70,
   "id": "120f011b",
   "metadata": {
    "hidden": true
   },
   "outputs": [
    {
     "data": {
      "text/plain": [
       "4.168341066013955"
      ]
     },
     "execution_count": 70,
     "metadata": {},
     "output_type": "execute_result"
    }
   ],
   "source": [
    "1141/27373*100"
   ]
  },
  {
   "cell_type": "code",
   "execution_count": 71,
   "id": "6b231587",
   "metadata": {
    "hidden": true
   },
   "outputs": [],
   "source": [
    "## Only 4% of people with heart disease are heavy drinkers, so this might not be that good indicator for heart disease, and\n",
    "## it's better to drop it"
   ]
  },
  {
   "cell_type": "code",
   "execution_count": 13,
   "id": "e091aad7",
   "metadata": {
    "hidden": true
   },
   "outputs": [],
   "source": [
    "df.drop(columns='AlcoholDrinking', inplace=True)"
   ]
  },
  {
   "cell_type": "code",
   "execution_count": null,
   "id": "3a132fb7",
   "metadata": {
    "hidden": true
   },
   "outputs": [],
   "source": []
  },
  {
   "cell_type": "markdown",
   "id": "051d1f7f",
   "metadata": {
    "heading_collapsed": true,
    "hidden": true
   },
   "source": [
    "#### Stroke"
   ]
  },
  {
   "cell_type": "code",
   "execution_count": 73,
   "id": "e0be4b25",
   "metadata": {
    "hidden": true
   },
   "outputs": [
    {
     "data": {
      "text/plain": [
       "No     96.22602\n",
       "Yes     3.77398\n",
       "Name: Stroke, dtype: float64"
      ]
     },
     "execution_count": 73,
     "metadata": {},
     "output_type": "execute_result"
    }
   ],
   "source": [
    "df['Stroke'].value_counts()/l*100"
   ]
  },
  {
   "cell_type": "code",
   "execution_count": null,
   "id": "4718eabd",
   "metadata": {
    "hidden": true
   },
   "outputs": [],
   "source": []
  },
  {
   "cell_type": "code",
   "execution_count": 74,
   "id": "0cbdaf69",
   "metadata": {
    "hidden": true
   },
   "outputs": [],
   "source": [
    "t6=dummy_df[[\"HeartDisease\",'Stroke']].groupby(['Stroke'],as_index=False).mean()"
   ]
  },
  {
   "cell_type": "code",
   "execution_count": 75,
   "id": "d84d09d1",
   "metadata": {
    "hidden": true
   },
   "outputs": [
    {
     "data": {
      "text/plain": [
       "<AxesSubplot:xlabel='Stroke', ylabel='HeartDisease'>"
      ]
     },
     "execution_count": 75,
     "metadata": {},
     "output_type": "execute_result"
    },
    {
     "data": {
      "image/png": "[encoded data removed]",
      "text/plain": [
       "<Figure size 432x288 with 1 Axes>"
      ]
     },
     "metadata": {
      "needs_background": "light"
     },
     "output_type": "display_data"
    }
   ],
   "source": [
    "sns.barplot(data=t6.sort_values(by='HeartDisease'),x='Stroke',y='HeartDisease')"
   ]
  },
  {
   "cell_type": "code",
   "execution_count": 76,
   "id": "7b1a347a",
   "metadata": {
    "hidden": true
   },
   "outputs": [],
   "source": [
    "## So a past stroke could be a big indicator for heart disease"
   ]
  },
  {
   "cell_type": "code",
   "execution_count": null,
   "id": "abe9cd15",
   "metadata": {
    "hidden": true
   },
   "outputs": [],
   "source": []
  },
  {
   "cell_type": "markdown",
   "id": "18d6e01a",
   "metadata": {
    "heading_collapsed": true,
    "hidden": true
   },
   "source": [
    "#### DiffWalking"
   ]
  },
  {
   "cell_type": "code",
   "execution_count": 77,
   "id": "f848f4e2",
   "metadata": {
    "hidden": true
   },
   "outputs": [
    {
     "data": {
      "text/plain": [
       "No     86.112979\n",
       "Yes    13.887021\n",
       "Name: DiffWalking, dtype: float64"
      ]
     },
     "execution_count": 77,
     "metadata": {},
     "output_type": "execute_result"
    }
   ],
   "source": [
    "df['DiffWalking'].value_counts()/l*100"
   ]
  },
  {
   "cell_type": "code",
   "execution_count": null,
   "id": "49a2bc74",
   "metadata": {
    "hidden": true
   },
   "outputs": [],
   "source": []
  },
  {
   "cell_type": "code",
   "execution_count": 78,
   "id": "87554c14",
   "metadata": {
    "hidden": true
   },
   "outputs": [],
   "source": [
    "t7=dummy_df[[\"HeartDisease\",'DiffWalking']].groupby(['DiffWalking'],as_index=False).mean()"
   ]
  },
  {
   "cell_type": "code",
   "execution_count": 79,
   "id": "1218a773",
   "metadata": {
    "hidden": true
   },
   "outputs": [
    {
     "data": {
      "text/plain": [
       "<AxesSubplot:xlabel='DiffWalking', ylabel='HeartDisease'>"
      ]
     },
     "execution_count": 79,
     "metadata": {},
     "output_type": "execute_result"
    },
    {
     "data": {
      "image/png": "[encoded data removed]",
      "text/plain": [
       "<Figure size 432x288 with 1 Axes>"
      ]
     },
     "metadata": {
      "needs_background": "light"
     },
     "output_type": "display_data"
    }
   ],
   "source": [
    "sns.barplot(data=t7.sort_values(by='HeartDisease'),x='DiffWalking',y='HeartDisease')"
   ]
  },
  {
   "cell_type": "code",
   "execution_count": 80,
   "id": "35958276",
   "metadata": {
    "hidden": true
   },
   "outputs": [],
   "source": [
    "## Difficulty in walking is also a good indicator for heart problem"
   ]
  },
  {
   "cell_type": "code",
   "execution_count": null,
   "id": "f8b3d665",
   "metadata": {
    "hidden": true
   },
   "outputs": [],
   "source": []
  },
  {
   "cell_type": "markdown",
   "id": "74912b18",
   "metadata": {
    "heading_collapsed": true,
    "hidden": true
   },
   "source": [
    "#### Sex"
   ]
  },
  {
   "cell_type": "code",
   "execution_count": 81,
   "id": "815a360c",
   "metadata": {
    "hidden": true
   },
   "outputs": [
    {
     "data": {
      "text/plain": [
       "Female    52.472678\n",
       "Male      47.527322\n",
       "Name: Sex, dtype: float64"
      ]
     },
     "execution_count": 81,
     "metadata": {},
     "output_type": "execute_result"
    }
   ],
   "source": [
    "df['Sex'].value_counts()/l*100"
   ]
  },
  {
   "cell_type": "code",
   "execution_count": null,
   "id": "fd7dbd99",
   "metadata": {
    "hidden": true
   },
   "outputs": [],
   "source": []
  },
  {
   "cell_type": "code",
   "execution_count": 82,
   "id": "4539332e",
   "metadata": {
    "hidden": true
   },
   "outputs": [],
   "source": [
    "t8=dummy_df[[\"HeartDisease\",'Sex']].groupby(['Sex'],as_index=False).mean()"
   ]
  },
  {
   "cell_type": "code",
   "execution_count": 83,
   "id": "e2b27ecb",
   "metadata": {
    "hidden": true
   },
   "outputs": [
    {
     "data": {
      "text/plain": [
       "<AxesSubplot:xlabel='Sex', ylabel='HeartDisease'>"
      ]
     },
     "execution_count": 83,
     "metadata": {},
     "output_type": "execute_result"
    },
    {
     "data": {
      "image/png": "[encoded data removed]",
      "text/plain": [
       "<Figure size 432x288 with 1 Axes>"
      ]
     },
     "metadata": {
      "needs_background": "light"
     },
     "output_type": "display_data"
    }
   ],
   "source": [
    "sns.barplot(data=t8.sort_values(by='HeartDisease'),x='Sex',y='HeartDisease')"
   ]
  },
  {
   "cell_type": "code",
   "execution_count": null,
   "id": "6c141cd8",
   "metadata": {
    "hidden": true
   },
   "outputs": [],
   "source": []
  },
  {
   "cell_type": "code",
   "execution_count": null,
   "id": "e3d71c8d",
   "metadata": {
    "hidden": true
   },
   "outputs": [],
   "source": []
  },
  {
   "cell_type": "markdown",
   "id": "389f5ead",
   "metadata": {
    "hidden": true
   },
   "source": [
    "#### AgeCategory\t"
   ]
  },
  {
   "cell_type": "code",
   "execution_count": 84,
   "id": "15e8b12d",
   "metadata": {
    "hidden": true
   },
   "outputs": [
    {
     "data": {
      "text/plain": [
       "65-69          10.679029\n",
       "60-64          10.533623\n",
       "70-74           9.714036\n",
       "55-59           9.305024\n",
       "50-54           7.936960\n",
       "80 or older     7.552651\n",
       "45-49           6.814053\n",
       "75-79           6.717428\n",
       "18-24           6.586720\n",
       "40-44           6.568583\n",
       "35-39           6.425992\n",
       "30-34           5.864069\n",
       "25-29           5.301834\n",
       "Name: AgeCategory, dtype: float64"
      ]
     },
     "execution_count": 84,
     "metadata": {},
     "output_type": "execute_result"
    }
   ],
   "source": [
    "df['AgeCategory'].value_counts()/l*100"
   ]
  },
  {
   "cell_type": "code",
   "execution_count": null,
   "id": "02c92d87",
   "metadata": {
    "hidden": true
   },
   "outputs": [],
   "source": []
  },
  {
   "cell_type": "code",
   "execution_count": 85,
   "id": "63ef6ac5",
   "metadata": {
    "hidden": true
   },
   "outputs": [],
   "source": [
    "t9=dummy_df[[\"HeartDisease\",'AgeCategory']].groupby(['AgeCategory'],as_index=False).mean()"
   ]
  },
  {
   "cell_type": "code",
   "execution_count": 86,
   "id": "b66c826f",
   "metadata": {
    "hidden": true
   },
   "outputs": [
    {
     "data": {
      "text/plain": [
       "<AxesSubplot:xlabel='AgeCategory', ylabel='HeartDisease'>"
      ]
     },
     "execution_count": 86,
     "metadata": {},
     "output_type": "execute_result"
    },
    {
     "data": {
      "image/png": "[encoded data removed]",
      "text/plain": [
       "<Figure size 1080x576 with 1 Axes>"
      ]
     },
     "metadata": {
      "needs_background": "light"
     },
     "output_type": "display_data"
    }
   ],
   "source": [
    "fig, ax = plt.subplots(figsize = (15,8))\n",
    "sns.barplot(data=t9.sort_values(by='HeartDisease'),x='AgeCategory',y='HeartDisease')"
   ]
  },
  {
   "cell_type": "code",
   "execution_count": 87,
   "id": "fc9beb60",
   "metadata": {
    "hidden": true
   },
   "outputs": [],
   "source": [
    "## we could see here that the risk of heart disease increases with age"
   ]
  },
  {
   "cell_type": "code",
   "execution_count": 88,
   "id": "be8d6363",
   "metadata": {
    "hidden": true
   },
   "outputs": [],
   "source": [
    "## Let us replace the category of Age with the mean value in that range (or we can do encoding aswell)"
   ]
  },
  {
   "cell_type": "code",
   "execution_count": 14,
   "id": "21ce78b6",
   "metadata": {
    "hidden": true
   },
   "outputs": [],
   "source": [
    "AgeCategory_mean = {'18-24':21,'25-29':27,'30-34':32,'35-39':37,'40-44':42,'45-49':47,'50-54':52,'55-59':57, \n",
    "                    '60-64':62,'65-69':67,'70-74':72,'75-79':77,'80 or older':80}\n",
    "\n",
    "df['Mean_Age'] = df['AgeCategory'].apply(lambda x: AgeCategory_mean[x])"
   ]
  },
  {
   "cell_type": "code",
   "execution_count": 15,
   "id": "c3d39129",
   "metadata": {
    "hidden": true
   },
   "outputs": [],
   "source": [
    "df.drop(columns=['AgeCategory'],inplace=True)"
   ]
  },
  {
   "cell_type": "code",
   "execution_count": null,
   "id": "11ed95bf",
   "metadata": {
    "hidden": true
   },
   "outputs": [],
   "source": []
  },
  {
   "cell_type": "code",
   "execution_count": null,
   "id": "bee73b08",
   "metadata": {
    "hidden": true
   },
   "outputs": [],
   "source": []
  },
  {
   "cell_type": "markdown",
   "id": "4fa96dfc",
   "metadata": {
    "heading_collapsed": true,
    "hidden": true
   },
   "source": [
    "#### Race\t"
   ]
  },
  {
   "cell_type": "code",
   "execution_count": 91,
   "id": "05a1c80c",
   "metadata": {
    "hidden": true
   },
   "outputs": [
    {
     "data": {
      "text/plain": [
       "White                             76.677872\n",
       "Hispanic                           8.582373\n",
       "Black                              7.173033\n",
       "Other                              3.417189\n",
       "Asian                              2.522866\n",
       "American Indian/Alaskan Native     1.626667\n",
       "Name: Race, dtype: float64"
      ]
     },
     "execution_count": 91,
     "metadata": {},
     "output_type": "execute_result"
    }
   ],
   "source": [
    "df['Race'].value_counts()/l*100"
   ]
  },
  {
   "cell_type": "code",
   "execution_count": 92,
   "id": "8c1f9af5",
   "metadata": {
    "hidden": true
   },
   "outputs": [],
   "source": [
    "t10=dummy_df[[\"HeartDisease\",'Race']].groupby(['Race'],as_index=False).mean()"
   ]
  },
  {
   "cell_type": "code",
   "execution_count": 93,
   "id": "04cbedc9",
   "metadata": {
    "hidden": true
   },
   "outputs": [
    {
     "data": {
      "text/plain": [
       "<AxesSubplot:xlabel='Race', ylabel='HeartDisease'>"
      ]
     },
     "execution_count": 93,
     "metadata": {},
     "output_type": "execute_result"
    },
    {
     "data": {
      "image/png": "[encoded data removed]",
      "text/plain": [
       "<Figure size 1080x576 with 1 Axes>"
      ]
     },
     "metadata": {
      "needs_background": "light"
     },
     "output_type": "display_data"
    }
   ],
   "source": [
    "fig, ax = plt.subplots(figsize = (15,8))\n",
    "sns.barplot(data=t10.sort_values(by='HeartDisease'),x='Race',y='HeartDisease')"
   ]
  },
  {
   "cell_type": "code",
   "execution_count": 94,
   "id": "196daa56",
   "metadata": {
    "hidden": true
   },
   "outputs": [],
   "source": [
    "## The Native Americans look to be at higher risk of the heart disease, which according to recent reports by CDC also is shown\n",
    "## that heart disease is a leading cause of death amongst them and they are more likely to develop a heart issue than the white\n",
    "## people. The asians seem to be having the lowest risk for a heart disease."
   ]
  },
  {
   "cell_type": "code",
   "execution_count": null,
   "id": "6e872565",
   "metadata": {
    "hidden": true
   },
   "outputs": [],
   "source": []
  },
  {
   "cell_type": "code",
   "execution_count": null,
   "id": "c21ba44c",
   "metadata": {
    "hidden": true
   },
   "outputs": [],
   "source": []
  },
  {
   "cell_type": "markdown",
   "id": "3df23373",
   "metadata": {
    "hidden": true
   },
   "source": [
    "#### Diabetic\t"
   ]
  },
  {
   "cell_type": "code",
   "execution_count": 95,
   "id": "e01d8617",
   "metadata": {
    "hidden": true
   },
   "outputs": [
    {
     "data": {
      "text/plain": [
       "No                         84.320580\n",
       "Yes                        12.758799\n",
       "No, borderline diabetes     2.120421\n",
       "Yes (during pregnancy)      0.800200\n",
       "Name: Diabetic, dtype: float64"
      ]
     },
     "execution_count": 95,
     "metadata": {},
     "output_type": "execute_result"
    }
   ],
   "source": [
    "df['Diabetic'].value_counts()/l*100"
   ]
  },
  {
   "cell_type": "code",
   "execution_count": null,
   "id": "10dc9096",
   "metadata": {
    "hidden": true
   },
   "outputs": [],
   "source": []
  },
  {
   "cell_type": "code",
   "execution_count": 96,
   "id": "355c2782",
   "metadata": {
    "hidden": true
   },
   "outputs": [],
   "source": [
    "t11=dummy_df[[\"HeartDisease\",'Diabetic']].groupby(['Diabetic'],as_index=False).mean()"
   ]
  },
  {
   "cell_type": "code",
   "execution_count": 97,
   "id": "a406bf79",
   "metadata": {
    "hidden": true
   },
   "outputs": [
    {
     "data": {
      "text/plain": [
       "<AxesSubplot:xlabel='Diabetic', ylabel='HeartDisease'>"
      ]
     },
     "execution_count": 97,
     "metadata": {},
     "output_type": "execute_result"
    },
    {
     "data": {
      "image/png": "[encoded data removed]",
      "text/plain": [
       "<Figure size 1080x576 with 1 Axes>"
      ]
     },
     "metadata": {
      "needs_background": "light"
     },
     "output_type": "display_data"
    }
   ],
   "source": [
    "fig, ax = plt.subplots(figsize = (15,8))\n",
    "sns.barplot(data=t11.sort_values(by='HeartDisease'),x='Diabetic',y='HeartDisease')"
   ]
  },
  {
   "cell_type": "code",
   "execution_count": 98,
   "id": "3650100f",
   "metadata": {
    "hidden": true
   },
   "outputs": [],
   "source": [
    "## People with Diabetes are at higher risk of a heart disease"
   ]
  },
  {
   "cell_type": "code",
   "execution_count": null,
   "id": "a46df1da",
   "metadata": {
    "hidden": true
   },
   "outputs": [],
   "source": []
  },
  {
   "cell_type": "markdown",
   "id": "e09486cf",
   "metadata": {
    "heading_collapsed": true,
    "hidden": true
   },
   "source": [
    "#### KidneyDisease\t"
   ]
  },
  {
   "cell_type": "code",
   "execution_count": 99,
   "id": "9770a0e5",
   "metadata": {
    "hidden": true
   },
   "outputs": [
    {
     "data": {
      "text/plain": [
       "No     96.316703\n",
       "Yes     3.683297\n",
       "Name: KidneyDisease, dtype: float64"
      ]
     },
     "execution_count": 99,
     "metadata": {},
     "output_type": "execute_result"
    }
   ],
   "source": [
    "df['KidneyDisease'].value_counts()/l*100"
   ]
  },
  {
   "cell_type": "code",
   "execution_count": null,
   "id": "3c3bc1a2",
   "metadata": {
    "hidden": true
   },
   "outputs": [],
   "source": []
  },
  {
   "cell_type": "code",
   "execution_count": 100,
   "id": "6f38e756",
   "metadata": {
    "hidden": true
   },
   "outputs": [],
   "source": [
    "t12=dummy_df[[\"HeartDisease\",'KidneyDisease']].groupby(['KidneyDisease'],as_index=False).mean()"
   ]
  },
  {
   "cell_type": "code",
   "execution_count": 101,
   "id": "3561fd27",
   "metadata": {
    "hidden": true
   },
   "outputs": [
    {
     "data": {
      "text/plain": [
       "<AxesSubplot:xlabel='KidneyDisease', ylabel='HeartDisease'>"
      ]
     },
     "execution_count": 101,
     "metadata": {},
     "output_type": "execute_result"
    },
    {
     "data": {
      "image/png": "[encoded data removed]",
      "text/plain": [
       "<Figure size 432x288 with 1 Axes>"
      ]
     },
     "metadata": {
      "needs_background": "light"
     },
     "output_type": "display_data"
    }
   ],
   "source": [
    "sns.barplot(data=t12.sort_values(by='HeartDisease'),x='KidneyDisease',y='HeartDisease')"
   ]
  },
  {
   "cell_type": "code",
   "execution_count": null,
   "id": "cfe7a4c8",
   "metadata": {
    "hidden": true
   },
   "outputs": [],
   "source": []
  },
  {
   "cell_type": "code",
   "execution_count": null,
   "id": "c07be753",
   "metadata": {
    "hidden": true
   },
   "outputs": [],
   "source": []
  },
  {
   "cell_type": "markdown",
   "id": "e8b0f703",
   "metadata": {
    "heading_collapsed": true,
    "hidden": true
   },
   "source": [
    "#### SkinCancer\t"
   ]
  },
  {
   "cell_type": "code",
   "execution_count": 102,
   "id": "b0e63215",
   "metadata": {
    "hidden": true
   },
   "outputs": [
    {
     "data": {
      "text/plain": [
       "No     90.675589\n",
       "Yes     9.324411\n",
       "Name: SkinCancer, dtype: float64"
      ]
     },
     "execution_count": 102,
     "metadata": {},
     "output_type": "execute_result"
    }
   ],
   "source": [
    "df['SkinCancer'].value_counts()/l*100"
   ]
  },
  {
   "cell_type": "code",
   "execution_count": null,
   "id": "e3dff709",
   "metadata": {
    "hidden": true
   },
   "outputs": [],
   "source": []
  },
  {
   "cell_type": "code",
   "execution_count": 103,
   "id": "d4454a36",
   "metadata": {
    "hidden": true
   },
   "outputs": [],
   "source": [
    "t13=dummy_df[[\"HeartDisease\",'SkinCancer']].groupby(['SkinCancer'],as_index=False).mean()"
   ]
  },
  {
   "cell_type": "code",
   "execution_count": 104,
   "id": "c907dc3f",
   "metadata": {
    "hidden": true
   },
   "outputs": [
    {
     "data": {
      "text/plain": [
       "<AxesSubplot:xlabel='SkinCancer', ylabel='HeartDisease'>"
      ]
     },
     "execution_count": 104,
     "metadata": {},
     "output_type": "execute_result"
    },
    {
     "data": {
      "image/png": "[encoded data removed]",
      "text/plain": [
       "<Figure size 432x288 with 1 Axes>"
      ]
     },
     "metadata": {
      "needs_background": "light"
     },
     "output_type": "display_data"
    }
   ],
   "source": [
    "sns.barplot(data=t13.sort_values(by='HeartDisease'),x='SkinCancer',y='HeartDisease')"
   ]
  },
  {
   "cell_type": "code",
   "execution_count": null,
   "id": "5c4bcfe9",
   "metadata": {
    "hidden": true
   },
   "outputs": [],
   "source": []
  },
  {
   "cell_type": "code",
   "execution_count": null,
   "id": "581d19bd",
   "metadata": {
    "hidden": true
   },
   "outputs": [],
   "source": []
  },
  {
   "cell_type": "markdown",
   "id": "313b1ea7",
   "metadata": {
    "heading_collapsed": true,
    "hidden": true
   },
   "source": [
    "#### Asthma\t"
   ]
  },
  {
   "cell_type": "code",
   "execution_count": 105,
   "id": "bccdd1d9",
   "metadata": {
    "hidden": true
   },
   "outputs": [
    {
     "data": {
      "text/plain": [
       "No     86.593912\n",
       "Yes    13.406088\n",
       "Name: Asthma, dtype: float64"
      ]
     },
     "execution_count": 105,
     "metadata": {},
     "output_type": "execute_result"
    }
   ],
   "source": [
    "df['Asthma'].value_counts()/l*100"
   ]
  },
  {
   "cell_type": "code",
   "execution_count": null,
   "id": "04287198",
   "metadata": {
    "hidden": true
   },
   "outputs": [],
   "source": []
  },
  {
   "cell_type": "code",
   "execution_count": 106,
   "id": "091cbeb9",
   "metadata": {
    "hidden": true
   },
   "outputs": [],
   "source": [
    "t14=dummy_df[[\"HeartDisease\",'Asthma']].groupby(['Asthma'],as_index=False).mean()"
   ]
  },
  {
   "cell_type": "code",
   "execution_count": 107,
   "id": "00aef992",
   "metadata": {
    "hidden": true
   },
   "outputs": [
    {
     "data": {
      "text/plain": [
       "<AxesSubplot:xlabel='Asthma', ylabel='HeartDisease'>"
      ]
     },
     "execution_count": 107,
     "metadata": {},
     "output_type": "execute_result"
    },
    {
     "data": {
      "image/png": "[encoded data removed]",
      "text/plain": [
       "<Figure size 432x288 with 1 Axes>"
      ]
     },
     "metadata": {
      "needs_background": "light"
     },
     "output_type": "display_data"
    }
   ],
   "source": [
    "sns.barplot(data=t14.sort_values(by='HeartDisease'),x='Asthma',y='HeartDisease')"
   ]
  },
  {
   "cell_type": "code",
   "execution_count": 108,
   "id": "9184aa90",
   "metadata": {
    "hidden": true
   },
   "outputs": [],
   "source": [
    "## So asthama is also a good indicator but not as strong as skin cancer and kidney disease"
   ]
  },
  {
   "cell_type": "code",
   "execution_count": null,
   "id": "73132543",
   "metadata": {
    "hidden": true
   },
   "outputs": [],
   "source": []
  },
  {
   "cell_type": "markdown",
   "id": "c60daba6",
   "metadata": {
    "heading_collapsed": true,
    "hidden": true
   },
   "source": [
    "#### PhysicalActivity\t"
   ]
  },
  {
   "cell_type": "code",
   "execution_count": 116,
   "id": "d3ad594f",
   "metadata": {
    "hidden": true
   },
   "outputs": [
    {
     "data": {
      "text/plain": [
       "Yes    77.536234\n",
       "No     22.463766\n",
       "Name: PhysicalActivity, dtype: float64"
      ]
     },
     "execution_count": 116,
     "metadata": {},
     "output_type": "execute_result"
    }
   ],
   "source": [
    "df['PhysicalActivity'].value_counts()/l*100"
   ]
  },
  {
   "cell_type": "code",
   "execution_count": null,
   "id": "4b24e612",
   "metadata": {
    "hidden": true
   },
   "outputs": [],
   "source": []
  },
  {
   "cell_type": "code",
   "execution_count": 117,
   "id": "3f8695e0",
   "metadata": {
    "hidden": true
   },
   "outputs": [],
   "source": [
    "t15=dummy_df[[\"HeartDisease\",'PhysicalActivity']].groupby(['PhysicalActivity'],as_index=False).mean()"
   ]
  },
  {
   "cell_type": "code",
   "execution_count": 118,
   "id": "248d86e7",
   "metadata": {
    "hidden": true
   },
   "outputs": [
    {
     "data": {
      "text/plain": [
       "<AxesSubplot:xlabel='PhysicalActivity', ylabel='HeartDisease'>"
      ]
     },
     "execution_count": 118,
     "metadata": {},
     "output_type": "execute_result"
    },
    {
     "data": {
      "image/png": "[encoded data removed]",
      "text/plain": [
       "<Figure size 432x288 with 1 Axes>"
      ]
     },
     "metadata": {
      "needs_background": "light"
     },
     "output_type": "display_data"
    }
   ],
   "source": [
    "sns.barplot(data=t15.sort_values(by='HeartDisease'),x='PhysicalActivity',y='HeartDisease')"
   ]
  },
  {
   "cell_type": "code",
   "execution_count": 119,
   "id": "924e8a72",
   "metadata": {
    "hidden": true
   },
   "outputs": [],
   "source": [
    "## Doing some physical activity can reduce the risk for heart disease"
   ]
  },
  {
   "cell_type": "code",
   "execution_count": null,
   "id": "8f6c4a3b",
   "metadata": {
    "hidden": true
   },
   "outputs": [],
   "source": []
  },
  {
   "cell_type": "code",
   "execution_count": null,
   "id": "b5e48a26",
   "metadata": {
    "hidden": true
   },
   "outputs": [],
   "source": []
  },
  {
   "cell_type": "markdown",
   "id": "370ef447",
   "metadata": {
    "hidden": true
   },
   "source": [
    "#### GenHealth\t"
   ]
  },
  {
   "cell_type": "code",
   "execution_count": 120,
   "id": "f46a1cd8",
   "metadata": {
    "hidden": true
   },
   "outputs": [
    {
     "data": {
      "text/plain": [
       "Very good    35.603433\n",
       "Good         29.121468\n",
       "Excellent    20.901515\n",
       "Fair         10.843509\n",
       "Poor          3.530074\n",
       "Name: GenHealth, dtype: float64"
      ]
     },
     "execution_count": 120,
     "metadata": {},
     "output_type": "execute_result"
    }
   ],
   "source": [
    "df['GenHealth'].value_counts()/l*100"
   ]
  },
  {
   "cell_type": "code",
   "execution_count": 121,
   "id": "86062545",
   "metadata": {
    "hidden": true
   },
   "outputs": [],
   "source": [
    "t16=dummy_df[[\"HeartDisease\",'GenHealth']].groupby(['GenHealth'],as_index=False).mean()"
   ]
  },
  {
   "cell_type": "code",
   "execution_count": 122,
   "id": "3c54cf13",
   "metadata": {
    "hidden": true
   },
   "outputs": [
    {
     "data": {
      "text/plain": [
       "<AxesSubplot:xlabel='GenHealth', ylabel='HeartDisease'>"
      ]
     },
     "execution_count": 122,
     "metadata": {},
     "output_type": "execute_result"
    },
    {
     "data": {
      "image/png": "[encoded data removed]",
      "text/plain": [
       "<Figure size 432x288 with 1 Axes>"
      ]
     },
     "metadata": {
      "needs_background": "light"
     },
     "output_type": "display_data"
    }
   ],
   "source": [
    "sns.barplot(data=t16.sort_values(by='HeartDisease'),x='GenHealth',y='HeartDisease')"
   ]
  },
  {
   "cell_type": "code",
   "execution_count": 123,
   "id": "bc2cffe9",
   "metadata": {
    "hidden": true
   },
   "outputs": [],
   "source": [
    "## The general health is affected with heart disease, which comes as so surprise. Although we can see that even with the general\n",
    "## health in the good region, the heart disease cases are not zero, i.e., your general health being good doesnt exempt you from\n",
    "## the risk of having a heart issue."
   ]
  },
  {
   "cell_type": "code",
   "execution_count": null,
   "id": "a2a2e396",
   "metadata": {
    "hidden": true
   },
   "outputs": [],
   "source": []
  },
  {
   "cell_type": "markdown",
   "id": "0d971d04",
   "metadata": {
    "hidden": true
   },
   "source": [
    "## Model building"
   ]
  },
  {
   "cell_type": "markdown",
   "id": "d1469cd3",
   "metadata": {
    "hidden": true
   },
   "source": [
    "### Encoding"
   ]
  },
  {
   "cell_type": "code",
   "execution_count": 83,
   "id": "8491ee87",
   "metadata": {
    "hidden": true
   },
   "outputs": [
    {
     "data": {
      "text/html": [
       "<div>\n",
       "<style scoped>\n",
       "    .dataframe tbody tr th:only-of-type {\n",
       "        vertical-align: middle;\n",
       "    }\n",
       "\n",
       "    .dataframe tbody tr th {\n",
       "        vertical-align: top;\n",
       "    }\n",
       "\n",
       "    .dataframe thead th {\n",
       "        text-align: right;\n",
       "    }\n",
       "</style>\n",
       "<table border=\"1\" class=\"dataframe\">\n",
       "  <thead>\n",
       "    <tr style=\"text-align: right;\">\n",
       "      <th></th>\n",
       "      <th>HeartDisease</th>\n",
       "      <th>Smoking</th>\n",
       "      <th>Stroke</th>\n",
       "      <th>PhysicalHealth</th>\n",
       "      <th>DiffWalking</th>\n",
       "      <th>Sex</th>\n",
       "      <th>Race</th>\n",
       "      <th>Diabetic</th>\n",
       "      <th>PhysicalActivity</th>\n",
       "      <th>GenHealth</th>\n",
       "      <th>Asthma</th>\n",
       "      <th>KidneyDisease</th>\n",
       "      <th>SkinCancer</th>\n",
       "      <th>BMI_cat</th>\n",
       "      <th>SleepTime_cat</th>\n",
       "      <th>Mean_Age</th>\n",
       "    </tr>\n",
       "  </thead>\n",
       "  <tbody>\n",
       "    <tr>\n",
       "      <th>0</th>\n",
       "      <td>No</td>\n",
       "      <td>Yes</td>\n",
       "      <td>No</td>\n",
       "      <td>3.0</td>\n",
       "      <td>No</td>\n",
       "      <td>Female</td>\n",
       "      <td>White</td>\n",
       "      <td>Yes</td>\n",
       "      <td>Yes</td>\n",
       "      <td>Very good</td>\n",
       "      <td>Yes</td>\n",
       "      <td>No</td>\n",
       "      <td>Yes</td>\n",
       "      <td>Uwt</td>\n",
       "      <td>Low</td>\n",
       "      <td>57</td>\n",
       "    </tr>\n",
       "    <tr>\n",
       "      <th>1</th>\n",
       "      <td>No</td>\n",
       "      <td>No</td>\n",
       "      <td>Yes</td>\n",
       "      <td>0.0</td>\n",
       "      <td>No</td>\n",
       "      <td>Female</td>\n",
       "      <td>White</td>\n",
       "      <td>No</td>\n",
       "      <td>Yes</td>\n",
       "      <td>Very good</td>\n",
       "      <td>No</td>\n",
       "      <td>No</td>\n",
       "      <td>No</td>\n",
       "      <td>N</td>\n",
       "      <td>Normal</td>\n",
       "      <td>80</td>\n",
       "    </tr>\n",
       "    <tr>\n",
       "      <th>2</th>\n",
       "      <td>No</td>\n",
       "      <td>Yes</td>\n",
       "      <td>No</td>\n",
       "      <td>20.0</td>\n",
       "      <td>No</td>\n",
       "      <td>Male</td>\n",
       "      <td>White</td>\n",
       "      <td>Yes</td>\n",
       "      <td>Yes</td>\n",
       "      <td>Fair</td>\n",
       "      <td>Yes</td>\n",
       "      <td>No</td>\n",
       "      <td>No</td>\n",
       "      <td>Owt</td>\n",
       "      <td>Normal</td>\n",
       "      <td>67</td>\n",
       "    </tr>\n",
       "    <tr>\n",
       "      <th>3</th>\n",
       "      <td>No</td>\n",
       "      <td>No</td>\n",
       "      <td>No</td>\n",
       "      <td>0.0</td>\n",
       "      <td>No</td>\n",
       "      <td>Female</td>\n",
       "      <td>White</td>\n",
       "      <td>No</td>\n",
       "      <td>No</td>\n",
       "      <td>Good</td>\n",
       "      <td>No</td>\n",
       "      <td>No</td>\n",
       "      <td>Yes</td>\n",
       "      <td>N</td>\n",
       "      <td>Low</td>\n",
       "      <td>77</td>\n",
       "    </tr>\n",
       "    <tr>\n",
       "      <th>4</th>\n",
       "      <td>No</td>\n",
       "      <td>No</td>\n",
       "      <td>No</td>\n",
       "      <td>28.0</td>\n",
       "      <td>Yes</td>\n",
       "      <td>Female</td>\n",
       "      <td>White</td>\n",
       "      <td>No</td>\n",
       "      <td>Yes</td>\n",
       "      <td>Very good</td>\n",
       "      <td>No</td>\n",
       "      <td>No</td>\n",
       "      <td>No</td>\n",
       "      <td>N</td>\n",
       "      <td>Normal</td>\n",
       "      <td>42</td>\n",
       "    </tr>\n",
       "    <tr>\n",
       "      <th>...</th>\n",
       "      <td>...</td>\n",
       "      <td>...</td>\n",
       "      <td>...</td>\n",
       "      <td>...</td>\n",
       "      <td>...</td>\n",
       "      <td>...</td>\n",
       "      <td>...</td>\n",
       "      <td>...</td>\n",
       "      <td>...</td>\n",
       "      <td>...</td>\n",
       "      <td>...</td>\n",
       "      <td>...</td>\n",
       "      <td>...</td>\n",
       "      <td>...</td>\n",
       "      <td>...</td>\n",
       "      <td>...</td>\n",
       "    </tr>\n",
       "    <tr>\n",
       "      <th>319790</th>\n",
       "      <td>Yes</td>\n",
       "      <td>Yes</td>\n",
       "      <td>No</td>\n",
       "      <td>7.0</td>\n",
       "      <td>Yes</td>\n",
       "      <td>Male</td>\n",
       "      <td>Hispanic</td>\n",
       "      <td>Yes</td>\n",
       "      <td>No</td>\n",
       "      <td>Fair</td>\n",
       "      <td>Yes</td>\n",
       "      <td>No</td>\n",
       "      <td>No</td>\n",
       "      <td>Owt</td>\n",
       "      <td>Low</td>\n",
       "      <td>62</td>\n",
       "    </tr>\n",
       "    <tr>\n",
       "      <th>319791</th>\n",
       "      <td>No</td>\n",
       "      <td>Yes</td>\n",
       "      <td>No</td>\n",
       "      <td>0.0</td>\n",
       "      <td>No</td>\n",
       "      <td>Male</td>\n",
       "      <td>Hispanic</td>\n",
       "      <td>No</td>\n",
       "      <td>Yes</td>\n",
       "      <td>Very good</td>\n",
       "      <td>Yes</td>\n",
       "      <td>No</td>\n",
       "      <td>No</td>\n",
       "      <td>Owt</td>\n",
       "      <td>Low</td>\n",
       "      <td>37</td>\n",
       "    </tr>\n",
       "    <tr>\n",
       "      <th>319792</th>\n",
       "      <td>No</td>\n",
       "      <td>No</td>\n",
       "      <td>No</td>\n",
       "      <td>0.0</td>\n",
       "      <td>No</td>\n",
       "      <td>Female</td>\n",
       "      <td>Hispanic</td>\n",
       "      <td>No</td>\n",
       "      <td>Yes</td>\n",
       "      <td>Good</td>\n",
       "      <td>No</td>\n",
       "      <td>No</td>\n",
       "      <td>No</td>\n",
       "      <td>N</td>\n",
       "      <td>Low</td>\n",
       "      <td>47</td>\n",
       "    </tr>\n",
       "    <tr>\n",
       "      <th>319793</th>\n",
       "      <td>No</td>\n",
       "      <td>No</td>\n",
       "      <td>No</td>\n",
       "      <td>0.0</td>\n",
       "      <td>No</td>\n",
       "      <td>Female</td>\n",
       "      <td>Hispanic</td>\n",
       "      <td>No</td>\n",
       "      <td>No</td>\n",
       "      <td>Good</td>\n",
       "      <td>No</td>\n",
       "      <td>No</td>\n",
       "      <td>No</td>\n",
       "      <td>O</td>\n",
       "      <td>High</td>\n",
       "      <td>27</td>\n",
       "    </tr>\n",
       "    <tr>\n",
       "      <th>319794</th>\n",
       "      <td>No</td>\n",
       "      <td>No</td>\n",
       "      <td>No</td>\n",
       "      <td>0.0</td>\n",
       "      <td>No</td>\n",
       "      <td>Female</td>\n",
       "      <td>Hispanic</td>\n",
       "      <td>No</td>\n",
       "      <td>Yes</td>\n",
       "      <td>Good</td>\n",
       "      <td>No</td>\n",
       "      <td>No</td>\n",
       "      <td>No</td>\n",
       "      <td>EO</td>\n",
       "      <td>Normal</td>\n",
       "      <td>80</td>\n",
       "    </tr>\n",
       "  </tbody>\n",
       "</table>\n",
       "<p>319795 rows × 16 columns</p>\n",
       "</div>"
      ],
      "text/plain": [
       "       HeartDisease Smoking Stroke  PhysicalHealth DiffWalking     Sex  \\\n",
       "0                No     Yes     No             3.0          No  Female   \n",
       "1                No      No    Yes             0.0          No  Female   \n",
       "2                No     Yes     No            20.0          No    Male   \n",
       "3                No      No     No             0.0          No  Female   \n",
       "4                No      No     No            28.0         Yes  Female   \n",
       "...             ...     ...    ...             ...         ...     ...   \n",
       "319790          Yes     Yes     No             7.0         Yes    Male   \n",
       "319791           No     Yes     No             0.0          No    Male   \n",
       "319792           No      No     No             0.0          No  Female   \n",
       "319793           No      No     No             0.0          No  Female   \n",
       "319794           No      No     No             0.0          No  Female   \n",
       "\n",
       "            Race Diabetic PhysicalActivity  GenHealth Asthma KidneyDisease  \\\n",
       "0          White      Yes              Yes  Very good    Yes            No   \n",
       "1          White       No              Yes  Very good     No            No   \n",
       "2          White      Yes              Yes       Fair    Yes            No   \n",
       "3          White       No               No       Good     No            No   \n",
       "4          White       No              Yes  Very good     No            No   \n",
       "...          ...      ...              ...        ...    ...           ...   \n",
       "319790  Hispanic      Yes               No       Fair    Yes            No   \n",
       "319791  Hispanic       No              Yes  Very good    Yes            No   \n",
       "319792  Hispanic       No              Yes       Good     No            No   \n",
       "319793  Hispanic       No               No       Good     No            No   \n",
       "319794  Hispanic       No              Yes       Good     No            No   \n",
       "\n",
       "       SkinCancer BMI_cat SleepTime_cat  Mean_Age  \n",
       "0             Yes     Uwt           Low        57  \n",
       "1              No       N        Normal        80  \n",
       "2              No     Owt        Normal        67  \n",
       "3             Yes       N           Low        77  \n",
       "4              No       N        Normal        42  \n",
       "...           ...     ...           ...       ...  \n",
       "319790         No     Owt           Low        62  \n",
       "319791         No     Owt           Low        37  \n",
       "319792         No       N           Low        47  \n",
       "319793         No       O          High        27  \n",
       "319794         No      EO        Normal        80  \n",
       "\n",
       "[319795 rows x 16 columns]"
      ]
     },
     "execution_count": 83,
     "metadata": {},
     "output_type": "execute_result"
    }
   ],
   "source": [
    "df"
   ]
  },
  {
   "cell_type": "code",
   "execution_count": 84,
   "id": "5b3bd4b8",
   "metadata": {
    "hidden": true
   },
   "outputs": [],
   "source": [
    "encoded_df = df.copy()\n",
    "\n",
    "##Label Encoding\n",
    "le = preprocessing.LabelEncoder()\n",
    "cols=['HeartDisease', 'Smoking', 'Stroke', 'DiffWalking', 'Sex', 'PhysicalActivity', 'Asthma', 'KidneyDisease', 'SkinCancer']\n",
    "\n",
    "for i in cols:\n",
    "    encoded_df[i] = le.fit_transform(encoded_df[i])\n",
    "    \n",
    "le_1=le.fit(encoded_df['GenHealth'])\n",
    "le_1.classes_ = np.array(['Poor', 'Fair','Good','Very good','Excellent'])   ## to assign 0 to Poor and 4 to Excellent\n",
    "encoded_df['GenHealth'] = le_1.transform(encoded_df['GenHealth'])\n",
    "\n",
    "## One hot encoding\n",
    "encoded_df=pd.concat([encoded_df,pd.get_dummies(encoded_df['Race'],prefix='Race',drop_first=True)], axis=1)\n",
    "encoded_df=pd.concat([encoded_df,pd.get_dummies(encoded_df['Diabetic'],prefix='Diabetic',drop_first=True)], axis=1)\n",
    "encoded_df=pd.concat([encoded_df,pd.get_dummies(encoded_df['BMI_cat'],prefix='BMI',drop_first=True)], axis=1)\n",
    "encoded_df=pd.concat([encoded_df,pd.get_dummies(encoded_df['SleepTime_cat'],prefix='SleepTime',drop_first=True)], axis=1)\n",
    "\n",
    "encoded_df.drop(columns=['Race','Diabetic','BMI_cat','SleepTime_cat'],axis=1,inplace=True)"
   ]
  },
  {
   "cell_type": "code",
   "execution_count": 85,
   "id": "46825b00",
   "metadata": {
    "hidden": true
   },
   "outputs": [
    {
     "data": {
      "text/html": [
       "<div>\n",
       "<style scoped>\n",
       "    .dataframe tbody tr th:only-of-type {\n",
       "        vertical-align: middle;\n",
       "    }\n",
       "\n",
       "    .dataframe tbody tr th {\n",
       "        vertical-align: top;\n",
       "    }\n",
       "\n",
       "    .dataframe thead th {\n",
       "        text-align: right;\n",
       "    }\n",
       "</style>\n",
       "<table border=\"1\" class=\"dataframe\">\n",
       "  <thead>\n",
       "    <tr style=\"text-align: right;\">\n",
       "      <th></th>\n",
       "      <th>HeartDisease</th>\n",
       "      <th>Smoking</th>\n",
       "      <th>Stroke</th>\n",
       "      <th>PhysicalHealth</th>\n",
       "      <th>DiffWalking</th>\n",
       "      <th>Sex</th>\n",
       "      <th>PhysicalActivity</th>\n",
       "      <th>GenHealth</th>\n",
       "      <th>Asthma</th>\n",
       "      <th>KidneyDisease</th>\n",
       "      <th>SkinCancer</th>\n",
       "      <th>Mean_Age</th>\n",
       "      <th>Race_Asian</th>\n",
       "      <th>Race_Black</th>\n",
       "      <th>Race_Hispanic</th>\n",
       "      <th>Race_Other</th>\n",
       "      <th>Race_White</th>\n",
       "      <th>Diabetic_No, borderline diabetes</th>\n",
       "      <th>Diabetic_Yes</th>\n",
       "      <th>Diabetic_Yes (during pregnancy)</th>\n",
       "      <th>BMI_N</th>\n",
       "      <th>BMI_O</th>\n",
       "      <th>BMI_Owt</th>\n",
       "      <th>BMI_Uwt</th>\n",
       "      <th>SleepTime_Low</th>\n",
       "      <th>SleepTime_Normal</th>\n",
       "    </tr>\n",
       "  </thead>\n",
       "  <tbody>\n",
       "    <tr>\n",
       "      <th>0</th>\n",
       "      <td>0</td>\n",
       "      <td>1</td>\n",
       "      <td>0</td>\n",
       "      <td>3.0</td>\n",
       "      <td>0</td>\n",
       "      <td>0</td>\n",
       "      <td>1</td>\n",
       "      <td>3</td>\n",
       "      <td>1</td>\n",
       "      <td>0</td>\n",
       "      <td>1</td>\n",
       "      <td>57</td>\n",
       "      <td>0</td>\n",
       "      <td>0</td>\n",
       "      <td>0</td>\n",
       "      <td>0</td>\n",
       "      <td>1</td>\n",
       "      <td>0</td>\n",
       "      <td>1</td>\n",
       "      <td>0</td>\n",
       "      <td>0</td>\n",
       "      <td>0</td>\n",
       "      <td>0</td>\n",
       "      <td>1</td>\n",
       "      <td>1</td>\n",
       "      <td>0</td>\n",
       "    </tr>\n",
       "    <tr>\n",
       "      <th>1</th>\n",
       "      <td>0</td>\n",
       "      <td>0</td>\n",
       "      <td>1</td>\n",
       "      <td>0.0</td>\n",
       "      <td>0</td>\n",
       "      <td>0</td>\n",
       "      <td>1</td>\n",
       "      <td>3</td>\n",
       "      <td>0</td>\n",
       "      <td>0</td>\n",
       "      <td>0</td>\n",
       "      <td>80</td>\n",
       "      <td>0</td>\n",
       "      <td>0</td>\n",
       "      <td>0</td>\n",
       "      <td>0</td>\n",
       "      <td>1</td>\n",
       "      <td>0</td>\n",
       "      <td>0</td>\n",
       "      <td>0</td>\n",
       "      <td>1</td>\n",
       "      <td>0</td>\n",
       "      <td>0</td>\n",
       "      <td>0</td>\n",
       "      <td>0</td>\n",
       "      <td>1</td>\n",
       "    </tr>\n",
       "    <tr>\n",
       "      <th>2</th>\n",
       "      <td>0</td>\n",
       "      <td>1</td>\n",
       "      <td>0</td>\n",
       "      <td>20.0</td>\n",
       "      <td>0</td>\n",
       "      <td>1</td>\n",
       "      <td>1</td>\n",
       "      <td>1</td>\n",
       "      <td>1</td>\n",
       "      <td>0</td>\n",
       "      <td>0</td>\n",
       "      <td>67</td>\n",
       "      <td>0</td>\n",
       "      <td>0</td>\n",
       "      <td>0</td>\n",
       "      <td>0</td>\n",
       "      <td>1</td>\n",
       "      <td>0</td>\n",
       "      <td>1</td>\n",
       "      <td>0</td>\n",
       "      <td>0</td>\n",
       "      <td>0</td>\n",
       "      <td>1</td>\n",
       "      <td>0</td>\n",
       "      <td>0</td>\n",
       "      <td>1</td>\n",
       "    </tr>\n",
       "    <tr>\n",
       "      <th>3</th>\n",
       "      <td>0</td>\n",
       "      <td>0</td>\n",
       "      <td>0</td>\n",
       "      <td>0.0</td>\n",
       "      <td>0</td>\n",
       "      <td>0</td>\n",
       "      <td>0</td>\n",
       "      <td>2</td>\n",
       "      <td>0</td>\n",
       "      <td>0</td>\n",
       "      <td>1</td>\n",
       "      <td>77</td>\n",
       "      <td>0</td>\n",
       "      <td>0</td>\n",
       "      <td>0</td>\n",
       "      <td>0</td>\n",
       "      <td>1</td>\n",
       "      <td>0</td>\n",
       "      <td>0</td>\n",
       "      <td>0</td>\n",
       "      <td>1</td>\n",
       "      <td>0</td>\n",
       "      <td>0</td>\n",
       "      <td>0</td>\n",
       "      <td>1</td>\n",
       "      <td>0</td>\n",
       "    </tr>\n",
       "    <tr>\n",
       "      <th>4</th>\n",
       "      <td>0</td>\n",
       "      <td>0</td>\n",
       "      <td>0</td>\n",
       "      <td>28.0</td>\n",
       "      <td>1</td>\n",
       "      <td>0</td>\n",
       "      <td>1</td>\n",
       "      <td>3</td>\n",
       "      <td>0</td>\n",
       "      <td>0</td>\n",
       "      <td>0</td>\n",
       "      <td>42</td>\n",
       "      <td>0</td>\n",
       "      <td>0</td>\n",
       "      <td>0</td>\n",
       "      <td>0</td>\n",
       "      <td>1</td>\n",
       "      <td>0</td>\n",
       "      <td>0</td>\n",
       "      <td>0</td>\n",
       "      <td>1</td>\n",
       "      <td>0</td>\n",
       "      <td>0</td>\n",
       "      <td>0</td>\n",
       "      <td>0</td>\n",
       "      <td>1</td>\n",
       "    </tr>\n",
       "    <tr>\n",
       "      <th>...</th>\n",
       "      <td>...</td>\n",
       "      <td>...</td>\n",
       "      <td>...</td>\n",
       "      <td>...</td>\n",
       "      <td>...</td>\n",
       "      <td>...</td>\n",
       "      <td>...</td>\n",
       "      <td>...</td>\n",
       "      <td>...</td>\n",
       "      <td>...</td>\n",
       "      <td>...</td>\n",
       "      <td>...</td>\n",
       "      <td>...</td>\n",
       "      <td>...</td>\n",
       "      <td>...</td>\n",
       "      <td>...</td>\n",
       "      <td>...</td>\n",
       "      <td>...</td>\n",
       "      <td>...</td>\n",
       "      <td>...</td>\n",
       "      <td>...</td>\n",
       "      <td>...</td>\n",
       "      <td>...</td>\n",
       "      <td>...</td>\n",
       "      <td>...</td>\n",
       "      <td>...</td>\n",
       "    </tr>\n",
       "    <tr>\n",
       "      <th>319790</th>\n",
       "      <td>1</td>\n",
       "      <td>1</td>\n",
       "      <td>0</td>\n",
       "      <td>7.0</td>\n",
       "      <td>1</td>\n",
       "      <td>1</td>\n",
       "      <td>0</td>\n",
       "      <td>1</td>\n",
       "      <td>1</td>\n",
       "      <td>0</td>\n",
       "      <td>0</td>\n",
       "      <td>62</td>\n",
       "      <td>0</td>\n",
       "      <td>0</td>\n",
       "      <td>1</td>\n",
       "      <td>0</td>\n",
       "      <td>0</td>\n",
       "      <td>0</td>\n",
       "      <td>1</td>\n",
       "      <td>0</td>\n",
       "      <td>0</td>\n",
       "      <td>0</td>\n",
       "      <td>1</td>\n",
       "      <td>0</td>\n",
       "      <td>1</td>\n",
       "      <td>0</td>\n",
       "    </tr>\n",
       "    <tr>\n",
       "      <th>319791</th>\n",
       "      <td>0</td>\n",
       "      <td>1</td>\n",
       "      <td>0</td>\n",
       "      <td>0.0</td>\n",
       "      <td>0</td>\n",
       "      <td>1</td>\n",
       "      <td>1</td>\n",
       "      <td>3</td>\n",
       "      <td>1</td>\n",
       "      <td>0</td>\n",
       "      <td>0</td>\n",
       "      <td>37</td>\n",
       "      <td>0</td>\n",
       "      <td>0</td>\n",
       "      <td>1</td>\n",
       "      <td>0</td>\n",
       "      <td>0</td>\n",
       "      <td>0</td>\n",
       "      <td>0</td>\n",
       "      <td>0</td>\n",
       "      <td>0</td>\n",
       "      <td>0</td>\n",
       "      <td>1</td>\n",
       "      <td>0</td>\n",
       "      <td>1</td>\n",
       "      <td>0</td>\n",
       "    </tr>\n",
       "    <tr>\n",
       "      <th>319792</th>\n",
       "      <td>0</td>\n",
       "      <td>0</td>\n",
       "      <td>0</td>\n",
       "      <td>0.0</td>\n",
       "      <td>0</td>\n",
       "      <td>0</td>\n",
       "      <td>1</td>\n",
       "      <td>2</td>\n",
       "      <td>0</td>\n",
       "      <td>0</td>\n",
       "      <td>0</td>\n",
       "      <td>47</td>\n",
       "      <td>0</td>\n",
       "      <td>0</td>\n",
       "      <td>1</td>\n",
       "      <td>0</td>\n",
       "      <td>0</td>\n",
       "      <td>0</td>\n",
       "      <td>0</td>\n",
       "      <td>0</td>\n",
       "      <td>1</td>\n",
       "      <td>0</td>\n",
       "      <td>0</td>\n",
       "      <td>0</td>\n",
       "      <td>1</td>\n",
       "      <td>0</td>\n",
       "    </tr>\n",
       "    <tr>\n",
       "      <th>319793</th>\n",
       "      <td>0</td>\n",
       "      <td>0</td>\n",
       "      <td>0</td>\n",
       "      <td>0.0</td>\n",
       "      <td>0</td>\n",
       "      <td>0</td>\n",
       "      <td>0</td>\n",
       "      <td>2</td>\n",
       "      <td>0</td>\n",
       "      <td>0</td>\n",
       "      <td>0</td>\n",
       "      <td>27</td>\n",
       "      <td>0</td>\n",
       "      <td>0</td>\n",
       "      <td>1</td>\n",
       "      <td>0</td>\n",
       "      <td>0</td>\n",
       "      <td>0</td>\n",
       "      <td>0</td>\n",
       "      <td>0</td>\n",
       "      <td>0</td>\n",
       "      <td>1</td>\n",
       "      <td>0</td>\n",
       "      <td>0</td>\n",
       "      <td>0</td>\n",
       "      <td>0</td>\n",
       "    </tr>\n",
       "    <tr>\n",
       "      <th>319794</th>\n",
       "      <td>0</td>\n",
       "      <td>0</td>\n",
       "      <td>0</td>\n",
       "      <td>0.0</td>\n",
       "      <td>0</td>\n",
       "      <td>0</td>\n",
       "      <td>1</td>\n",
       "      <td>2</td>\n",
       "      <td>0</td>\n",
       "      <td>0</td>\n",
       "      <td>0</td>\n",
       "      <td>80</td>\n",
       "      <td>0</td>\n",
       "      <td>0</td>\n",
       "      <td>1</td>\n",
       "      <td>0</td>\n",
       "      <td>0</td>\n",
       "      <td>0</td>\n",
       "      <td>0</td>\n",
       "      <td>0</td>\n",
       "      <td>0</td>\n",
       "      <td>0</td>\n",
       "      <td>0</td>\n",
       "      <td>0</td>\n",
       "      <td>0</td>\n",
       "      <td>1</td>\n",
       "    </tr>\n",
       "  </tbody>\n",
       "</table>\n",
       "<p>319795 rows × 26 columns</p>\n",
       "</div>"
      ],
      "text/plain": [
       "        HeartDisease  Smoking  Stroke  PhysicalHealth  DiffWalking  Sex  \\\n",
       "0                  0        1       0             3.0            0    0   \n",
       "1                  0        0       1             0.0            0    0   \n",
       "2                  0        1       0            20.0            0    1   \n",
       "3                  0        0       0             0.0            0    0   \n",
       "4                  0        0       0            28.0            1    0   \n",
       "...              ...      ...     ...             ...          ...  ...   \n",
       "319790             1        1       0             7.0            1    1   \n",
       "319791             0        1       0             0.0            0    1   \n",
       "319792             0        0       0             0.0            0    0   \n",
       "319793             0        0       0             0.0            0    0   \n",
       "319794             0        0       0             0.0            0    0   \n",
       "\n",
       "        PhysicalActivity  GenHealth  Asthma  KidneyDisease  SkinCancer  \\\n",
       "0                      1          3       1              0           1   \n",
       "1                      1          3       0              0           0   \n",
       "2                      1          1       1              0           0   \n",
       "3                      0          2       0              0           1   \n",
       "4                      1          3       0              0           0   \n",
       "...                  ...        ...     ...            ...         ...   \n",
       "319790                 0          1       1              0           0   \n",
       "319791                 1          3       1              0           0   \n",
       "319792                 1          2       0              0           0   \n",
       "319793                 0          2       0              0           0   \n",
       "319794                 1          2       0              0           0   \n",
       "\n",
       "        Mean_Age  Race_Asian  Race_Black  Race_Hispanic  Race_Other  \\\n",
       "0             57           0           0              0           0   \n",
       "1             80           0           0              0           0   \n",
       "2             67           0           0              0           0   \n",
       "3             77           0           0              0           0   \n",
       "4             42           0           0              0           0   \n",
       "...          ...         ...         ...            ...         ...   \n",
       "319790        62           0           0              1           0   \n",
       "319791        37           0           0              1           0   \n",
       "319792        47           0           0              1           0   \n",
       "319793        27           0           0              1           0   \n",
       "319794        80           0           0              1           0   \n",
       "\n",
       "        Race_White  Diabetic_No, borderline diabetes  Diabetic_Yes  \\\n",
       "0                1                                 0             1   \n",
       "1                1                                 0             0   \n",
       "2                1                                 0             1   \n",
       "3                1                                 0             0   \n",
       "4                1                                 0             0   \n",
       "...            ...                               ...           ...   \n",
       "319790           0                                 0             1   \n",
       "319791           0                                 0             0   \n",
       "319792           0                                 0             0   \n",
       "319793           0                                 0             0   \n",
       "319794           0                                 0             0   \n",
       "\n",
       "        Diabetic_Yes (during pregnancy)  BMI_N  BMI_O  BMI_Owt  BMI_Uwt  \\\n",
       "0                                     0      0      0        0        1   \n",
       "1                                     0      1      0        0        0   \n",
       "2                                     0      0      0        1        0   \n",
       "3                                     0      1      0        0        0   \n",
       "4                                     0      1      0        0        0   \n",
       "...                                 ...    ...    ...      ...      ...   \n",
       "319790                                0      0      0        1        0   \n",
       "319791                                0      0      0        1        0   \n",
       "319792                                0      1      0        0        0   \n",
       "319793                                0      0      1        0        0   \n",
       "319794                                0      0      0        0        0   \n",
       "\n",
       "        SleepTime_Low  SleepTime_Normal  \n",
       "0                   1                 0  \n",
       "1                   0                 1  \n",
       "2                   0                 1  \n",
       "3                   1                 0  \n",
       "4                   0                 1  \n",
       "...               ...               ...  \n",
       "319790              1                 0  \n",
       "319791              1                 0  \n",
       "319792              1                 0  \n",
       "319793              0                 0  \n",
       "319794              0                 1  \n",
       "\n",
       "[319795 rows x 26 columns]"
      ]
     },
     "metadata": {},
     "output_type": "display_data"
    }
   ],
   "source": [
    "from IPython.display import display\n",
    "with pd.option_context('display.max_columns', 30):\n",
    "    display(encoded_df)"
   ]
  },
  {
   "cell_type": "markdown",
   "id": "04c38bb0",
   "metadata": {
    "hidden": true
   },
   "source": [
    "### Standardization"
   ]
  },
  {
   "cell_type": "code",
   "execution_count": 86,
   "id": "2fd645ae",
   "metadata": {
    "hidden": true
   },
   "outputs": [],
   "source": [
    "from sklearn.preprocessing import StandardScaler\n",
    "sc = StandardScaler()"
   ]
  },
  {
   "cell_type": "code",
   "execution_count": 87,
   "id": "1893ecc0",
   "metadata": {
    "hidden": true
   },
   "outputs": [],
   "source": [
    "X=encoded_df.drop(columns=['HeartDisease'],axis=1)\n",
    "y=encoded_df['HeartDisease']"
   ]
  },
  {
   "cell_type": "code",
   "execution_count": 88,
   "id": "a5ec38c0",
   "metadata": {
    "hidden": true
   },
   "outputs": [],
   "source": [
    "col=X.columns"
   ]
  },
  {
   "cell_type": "code",
   "execution_count": 89,
   "id": "55dfd761",
   "metadata": {
    "hidden": true
   },
   "outputs": [],
   "source": [
    "encod_stand_df = sc.fit_transform(X)\n",
    "es_df = pd.DataFrame(encod_stand_df, columns = col)"
   ]
  },
  {
   "cell_type": "markdown",
   "id": "d7bfe915",
   "metadata": {
    "hidden": true
   },
   "source": [
    "### Train test split"
   ]
  },
  {
   "cell_type": "code",
   "execution_count": 90,
   "id": "0eb510ef",
   "metadata": {
    "hidden": true
   },
   "outputs": [],
   "source": [
    "from sklearn.model_selection import train_test_split\n",
    "X_train, X_test, y_train, y_test = train_test_split(es_df,y,test_size =0.2,random_state = 42)"
   ]
  },
  {
   "cell_type": "code",
   "execution_count": null,
   "id": "3b837555",
   "metadata": {
    "hidden": true
   },
   "outputs": [],
   "source": []
  },
  {
   "cell_type": "markdown",
   "id": "2cd8a6b5",
   "metadata": {
    "hidden": true
   },
   "source": [
    "### Creating evaluation metrics"
   ]
  },
  {
   "cell_type": "code",
   "execution_count": null,
   "id": "a870cc76",
   "metadata": {
    "hidden": true
   },
   "outputs": [],
   "source": []
  },
  {
   "cell_type": "code",
   "execution_count": 24,
   "id": "ebbfec9d",
   "metadata": {
    "hidden": true
   },
   "outputs": [],
   "source": [
    "def plot_confusion_matrix(model,X_test,y_test,normalize=False):\n",
    "    \"\"\"\n",
    "        Computes and plots the confusion matrix.         \n",
    "        \n",
    "        \n",
    "        Parameters\n",
    "        ----------\n",
    "        \n",
    "        model : ML model\n",
    "            A trained model for which ROC is to be computed\n",
    "        X_test: pandas.DataFrame\n",
    "            Testing data for independent variables(features)\n",
    "        y_test: pandas.Series\n",
    "            Testing data for target variables\n",
    "        normalize : boolean, default=False\n",
    "            To normalize the matrix\n",
    "        \n",
    "    \"\"\"\n",
    "    y_pred = model.predict(X_test)\n",
    "    cm = confusion_matrix(y_test, y_pred)\n",
    "    classes=[\"No\", \"Yes\"]\n",
    "    if normalize:\n",
    "        cm = cm.astype('float') / cm.sum(axis=1)[:, np.newaxis]\n",
    "        cm = np.around(cm, decimals=3)\n",
    "    plt.imshow(cm, interpolation='nearest', cmap=plt.cm.Blues)\n",
    "    plt.title(\"Confusion Matrix\")\n",
    "    plt.colorbar()\n",
    "    tick_marks = np.arange(len(classes))\n",
    "    plt.xticks(tick_marks, classes, rotation=45)\n",
    "    plt.yticks(tick_marks, classes)\n",
    "    thresh = cm.max() / 2.\n",
    "    for i, j in itertools.product(range(cm.shape[0]), range(cm.shape[1])):\n",
    "        plt.text(j, i, cm[i, j],\n",
    "                 horizontalalignment=\"center\",\n",
    "                 color=\"white\" if cm[i, j] > thresh else \"black\")\n",
    "    plt.tight_layout()\n",
    "    plt.ylabel('True label')\n",
    "    plt.xlabel('Predicted label')"
   ]
  },
  {
   "cell_type": "code",
   "execution_count": 25,
   "id": "a7f076ba",
   "metadata": {
    "hidden": true
   },
   "outputs": [],
   "source": [
    "def plot_roc(model,X_test,y_test,plot_threshold=False,t=0.5):\n",
    "    \"\"\"\n",
    "        Computes and plots the ROC curve and AUC. It also plots a given threshold value        \n",
    "        \n",
    "        \n",
    "        Parameters\n",
    "        ----------\n",
    "        \n",
    "        model : ML model\n",
    "            A trained model for which ROC is to be computed\n",
    "        X_test: pandas.DataFrame\n",
    "            Testing data for independent variables(features)\n",
    "        y_test: pandas.Series\n",
    "            Testing data for target variables\n",
    "        plot_threshold : boolean, default=False\n",
    "            Whether to plot the given threshold or not.\n",
    "        t : float, default=0.5\n",
    "            Threshold value to plot on the graph\n",
    "    \"\"\"\n",
    "    \n",
    "    y_pred_proba = model.predict_proba(X_test)[::,1]\n",
    "    fpr, tpr, thresh = roc_curve(y_test,  y_pred_proba)\n",
    "    auc = roc_auc_score(y_test, y_pred_proba)\n",
    "    \n",
    "\n",
    "    # margins for text threshold\n",
    "    y_text_margin=0.05\n",
    "    x_text_margin=0.2\n",
    "    \n",
    "    \n",
    "    x_thresh, y_thresh = fpr[np.argmin(abs(thresh - t))], tpr[np.argmin(abs(thresh - t))]\n",
    "    \n",
    "    ## np.argmin(abs(thresh - t)) will give you the index of the min element in the array (thresh-t)\n",
    "    ## since 'thresh' array wont have the exact threshold 't' in it, so we need the\n",
    "    ## one which is the closest (if t is in thresh then (thresh - t) would be zero and the min in abs(thresh - t) )\n",
    "\n",
    "    # Roc curve\n",
    "    plt.plot(fpr, tpr,lw=2,label='ROC curve (AUC = %0.2f)' % auc,linestyle='-')\n",
    "    \n",
    "    # Reference line\n",
    "    plt.plot([0, 1], [0, 1],label=\"Random guess\",color='red',lw=2, linestyle='--')\n",
    "    \n",
    "    # Plotting threshold\n",
    "    if plot_threshold:\n",
    "    \n",
    "        plt.axhline(y=y_thresh,lw=2,color='black',linestyle=':')\n",
    "        plt.axvline(x=x_thresh,lw=2,color='black',linestyle=':')\n",
    "        \n",
    "        # text for threshold\n",
    "        if x_thresh > 0.5 and y_thresh > 0.5:\n",
    "            plt.text(x=x_thresh - x_text_margin, y=y_thresh - y_text_margin,s='Threshold : {:.2f}'.format(t))\n",
    "        elif x_thresh <= 0.5 and y_thresh <= 0.5:\n",
    "            plt.text(x=x_thresh + x_text_margin, y=y_thresh + y_text_margin,s='Threshold : {:.2f}'.format(t))\n",
    "        elif x_thresh <= 0.5 < y_thresh:\n",
    "            plt.text(x=x_thresh + x_text_margin, y=y_thresh - y_text_margin,s='Threshold : {:.2f}'.format(t))\n",
    "        elif x_thresh > 0.5 >= y_thresh:\n",
    "            plt.text(x=x_thresh - x_text_margin, y=y_thresh + y_text_margin,s='Threshold : {:.2f}'.format(t))\n",
    "        \n",
    "        plt.plot(x_thresh, y_thresh, 'ro')  # redpoint of threshold on the ROC curve\n",
    "    \n",
    "    plt.xlabel('False Positive Rate')\n",
    "    plt.ylabel('True Positive Rate')\n",
    "    plt.legend(loc=0)"
   ]
  },
  {
   "cell_type": "code",
   "execution_count": null,
   "id": "35efe415",
   "metadata": {
    "hidden": true
   },
   "outputs": [],
   "source": []
  },
  {
   "cell_type": "code",
   "execution_count": 26,
   "id": "572c616b",
   "metadata": {
    "hidden": true
   },
   "outputs": [],
   "source": [
    "def plot_prc(model,X_test,y_test):\n",
    "    \"\"\"\n",
    "        Computes and plots the precision-recall curve and AUC.        \n",
    "        \n",
    "        \n",
    "        Parameters\n",
    "        ----------\n",
    "        \n",
    "        model : ML model\n",
    "            A trained model for which ROC is to be computed\n",
    "        X_test: pandas.DataFrame\n",
    "            Testing data for independent variables(features)\n",
    "        y_test: pandas.Series\n",
    "            Testing data for target variables\n",
    "        \n",
    "    \"\"\"\n",
    "    \n",
    "    y_pred_proba = model.predict_proba(X_test)[::,1]\n",
    "    prec, rec, thresh = precision_recall_curve(y_test,  y_pred_proba)\n",
    "    auc_val = average_precision_score(y_test, y_pred_proba)\n",
    "\n",
    "    \n",
    "    rand = len(y_test[y_test==1]) / len(y_test)\n",
    "    plt.plot([0, 1], [rand, rand],color='red', linestyle='--', label='Random')\n",
    "    plt.plot(rec, prec, marker='.', label='PR curve (AUC = %0.2f)' % auc_val,linestyle='-',color='orange')\n",
    "    \n",
    "\n",
    "    plt.xlabel('Recall')\n",
    "    plt.ylabel('Precision')\n",
    "    plt.legend(loc=0)\n",
    "    "
   ]
  },
  {
   "cell_type": "code",
   "execution_count": null,
   "id": "f5f722ca",
   "metadata": {
    "hidden": true
   },
   "outputs": [],
   "source": []
  },
  {
   "cell_type": "markdown",
   "id": "c45ea3d2",
   "metadata": {
    "hidden": true
   },
   "source": [
    "### Model"
   ]
  },
  {
   "cell_type": "code",
   "execution_count": null,
   "id": "0cd7fcea",
   "metadata": {
    "hidden": true
   },
   "outputs": [],
   "source": []
  },
  {
   "cell_type": "code",
   "execution_count": 28,
   "id": "c83adac9",
   "metadata": {
    "hidden": true
   },
   "outputs": [],
   "source": [
    "from sklearn.metrics import accuracy_score,roc_curve,roc_auc_score,confusion_matrix,classification_report"
   ]
  },
  {
   "cell_type": "code",
   "execution_count": null,
   "id": "93f74ec7",
   "metadata": {
    "hidden": true
   },
   "outputs": [],
   "source": []
  },
  {
   "cell_type": "markdown",
   "id": "4721a980",
   "metadata": {
    "hidden": true
   },
   "source": [
    "#### Random Forest"
   ]
  },
  {
   "cell_type": "code",
   "execution_count": 29,
   "id": "0b6487b0",
   "metadata": {
    "hidden": true
   },
   "outputs": [],
   "source": [
    "from sklearn.ensemble import RandomForestClassifier"
   ]
  },
  {
   "cell_type": "code",
   "execution_count": null,
   "id": "96eb1bd1",
   "metadata": {
    "hidden": true
   },
   "outputs": [],
   "source": []
  },
  {
   "cell_type": "code",
   "execution_count": 156,
   "id": "633f65b3",
   "metadata": {
    "hidden": true,
    "scrolled": true
   },
   "outputs": [
    {
     "name": "stdout",
     "output_type": "stream",
     "text": [
      "Accuracy: 0.9042511608999515\n",
      "\n",
      "\t\t\tClassification report\n",
      "               precision    recall  f1-score   support\n",
      "\n",
      "           0       0.92      0.98      0.95     58367\n",
      "           1       0.37      0.13      0.19      5592\n",
      "\n",
      "    accuracy                           0.90     63959\n",
      "   macro avg       0.64      0.55      0.57     63959\n",
      "weighted avg       0.87      0.90      0.88     63959\n",
      "\n"
     ]
    }
   ],
   "source": [
    "model_rf = RandomForestClassifier(random_state=42)\n",
    "model_rf.fit(X_train,y_train)\n",
    "\n",
    "\n",
    "y_pred = model_rf.predict(X_test)\n",
    "print(\"Accuracy:\",accuracy_score(y_test, y_pred))\n",
    "print(\"\\n\\t\\t\\tClassification report\\n\",classification_report(y_test, y_pred))"
   ]
  },
  {
   "cell_type": "code",
   "execution_count": null,
   "id": "74f81d53",
   "metadata": {
    "hidden": true
   },
   "outputs": [],
   "source": [
    "## Since this is an imbalanced dataset, so we focus on better precision or recall than accuracy of the minority class. \n",
    "## Recall is much preferred in this case since its better to detect a heart patient at the cost of more False positives rather\n",
    "## than high precision where we might ignore a lot of True cases (heart risk patients) to improve our correct predictions.\n",
    "\n",
    "## (Its better to tell a false result to a no heart risk patient than telling a heart patient, as the former might cause \n",
    "## unnecessary doctor visit but the later might lead to the ignore of an underlying disease, which is obviously much worse.)"
   ]
  },
  {
   "cell_type": "code",
   "execution_count": null,
   "id": "cdd225a1",
   "metadata": {
    "hidden": true
   },
   "outputs": [],
   "source": []
  },
  {
   "cell_type": "code",
   "execution_count": 92,
   "id": "b9d20081",
   "metadata": {
    "hidden": true
   },
   "outputs": [
    {
     "name": "stdout",
     "output_type": "stream",
     "text": [
      "Accuracy: 0.7453993964883754\n",
      "\n",
      "\t\t\tClassification report\n",
      "               precision    recall  f1-score   support\n",
      "\n",
      "           0       0.97      0.74      0.84     58367\n",
      "           1       0.23      0.79      0.35      5592\n",
      "\n",
      "    accuracy                           0.75     63959\n",
      "   macro avg       0.60      0.76      0.60     63959\n",
      "weighted avg       0.91      0.75      0.80     63959\n",
      "\n"
     ]
    }
   ],
   "source": [
    "model_rf = RandomForestClassifier(random_state=42)\n",
    "model_rf.set_params(n_estimators=500, class_weight=\"balanced\",max_depth=30,min_samples_split= 30,min_samples_leaf=24)\n",
    "model_rf.fit(X_train,y_train)\n",
    "\n",
    "y_pred = model_rf.predict(X_test)\n",
    "print(\"Accuracy:\",accuracy_score(y_test, y_pred))\n",
    "print(\"\\n\\t\\t\\tClassification report\\n\",classification_report(y_test, y_pred))"
   ]
  },
  {
   "cell_type": "code",
   "execution_count": null,
   "id": "6cf2debc",
   "metadata": {
    "hidden": true
   },
   "outputs": [],
   "source": [
    "## here we have good recall for the minority class"
   ]
  },
  {
   "cell_type": "code",
   "execution_count": 73,
   "id": "1f08ff3c",
   "metadata": {
    "hidden": true
   },
   "outputs": [
    {
     "name": "stdout",
     "output_type": "stream",
     "text": [
      "Cross validation score:  0.7464547553124916\n"
     ]
    }
   ],
   "source": [
    "print('Cross validation score: ',cross_val_score(model_rf, X_train, y_train, cv=10).mean())"
   ]
  },
  {
   "cell_type": "code",
   "execution_count": 93,
   "id": "f778d833",
   "metadata": {
    "hidden": true
   },
   "outputs": [
    {
     "data": {
      "image/png": "[encoded data removed]",
      "text/plain": [
       "<Figure size 432x288 with 2 Axes>"
      ]
     },
     "metadata": {
      "needs_background": "light"
     },
     "output_type": "display_data"
    }
   ],
   "source": [
    "plot_confusion_matrix(model_rf,X_test,y_test,normalize=True)"
   ]
  },
  {
   "cell_type": "code",
   "execution_count": 94,
   "id": "801f813c",
   "metadata": {
    "hidden": true
   },
   "outputs": [
    {
     "data": {
      "image/png": "[encoded data removed]",
      "text/plain": [
       "<Figure size 432x288 with 1 Axes>"
      ]
     },
     "metadata": {
      "needs_background": "light"
     },
     "output_type": "display_data"
    }
   ],
   "source": [
    "plot_prc(model_rf,X_test,y_test)"
   ]
  },
  {
   "cell_type": "code",
   "execution_count": 95,
   "id": "8a9d291c",
   "metadata": {
    "hidden": true
   },
   "outputs": [
    {
     "data": {
      "image/png": "[encoded data removed]",
      "text/plain": [
       "<Figure size 432x288 with 1 Axes>"
      ]
     },
     "metadata": {
      "needs_background": "light"
     },
     "output_type": "display_data"
    }
   ],
   "source": [
    "plot_roc(model_rf,X_test,y_test)"
   ]
  },
  {
   "cell_type": "markdown",
   "id": "976727ad",
   "metadata": {
    "hidden": true
   },
   "source": [
    "#### Logistic Regression"
   ]
  },
  {
   "cell_type": "code",
   "execution_count": 36,
   "id": "ebfb2ddc",
   "metadata": {
    "hidden": true
   },
   "outputs": [],
   "source": [
    "from sklearn.linear_model import LogisticRegression"
   ]
  },
  {
   "cell_type": "code",
   "execution_count": 37,
   "id": "b91d71ac",
   "metadata": {
    "hidden": true
   },
   "outputs": [
    {
     "name": "stdout",
     "output_type": "stream",
     "text": [
      "Accuracy: 0.739880235776044\n",
      "\n",
      "\t\t\tClassification report\n",
      "               precision    recall  f1-score   support\n",
      "\n",
      "           0       0.97      0.74      0.84     58367\n",
      "           1       0.22      0.77      0.34      5592\n",
      "\n",
      "    accuracy                           0.74     63959\n",
      "   macro avg       0.60      0.75      0.59     63959\n",
      "weighted avg       0.91      0.74      0.79     63959\n",
      "\n"
     ]
    }
   ],
   "source": [
    "model_lr = LogisticRegression(random_state=0,class_weight='balanced', max_iter=800)\n",
    "\n",
    "model_lr.fit(X_train, y_train)    \n",
    "\n",
    "y_pred = model_lr.predict(X_test)\n",
    "print(\"Accuracy:\",accuracy_score(y_test, y_pred))\n",
    "print(\"\\n\\t\\t\\tClassification report\\n\",classification_report(y_test, y_pred))"
   ]
  },
  {
   "cell_type": "code",
   "execution_count": 38,
   "id": "2c159988",
   "metadata": {
    "hidden": true
   },
   "outputs": [
    {
     "data": {
      "image/png": "[encoded data removed]",
      "text/plain": [
       "<Figure size 432x288 with 2 Axes>"
      ]
     },
     "metadata": {
      "needs_background": "light"
     },
     "output_type": "display_data"
    }
   ],
   "source": [
    "plot_confusion_matrix(model_lr,X_test,y_test,normalize=True)"
   ]
  },
  {
   "cell_type": "code",
   "execution_count": 60,
   "id": "c4fda73e",
   "metadata": {
    "hidden": true
   },
   "outputs": [
    {
     "data": {
      "image/png": "[encoded data removed]",
      "text/plain": [
       "<Figure size 432x288 with 1 Axes>"
      ]
     },
     "metadata": {
      "needs_background": "light"
     },
     "output_type": "display_data"
    }
   ],
   "source": [
    "plot_prc(model_lr,X_test,y_test)"
   ]
  },
  {
   "cell_type": "code",
   "execution_count": null,
   "id": "554691c9",
   "metadata": {
    "hidden": true
   },
   "outputs": [],
   "source": []
  },
  {
   "cell_type": "code",
   "execution_count": null,
   "id": "1e7281ec",
   "metadata": {
    "hidden": true
   },
   "outputs": [],
   "source": []
  },
  {
   "cell_type": "markdown",
   "id": "f05ab90e",
   "metadata": {
    "hidden": true
   },
   "source": [
    "#### Naive Bayes"
   ]
  },
  {
   "cell_type": "code",
   "execution_count": 63,
   "id": "78144f5e",
   "metadata": {
    "hidden": true
   },
   "outputs": [],
   "source": [
    "from sklearn.naive_bayes import GaussianNB"
   ]
  },
  {
   "cell_type": "code",
   "execution_count": 64,
   "id": "47b57629",
   "metadata": {
    "hidden": true
   },
   "outputs": [
    {
     "name": "stdout",
     "output_type": "stream",
     "text": [
      "Accuracy: 0.8276239465907848\n",
      "\n",
      "\t\t\tClassification report\n",
      "               precision    recall  f1-score   support\n",
      "\n",
      "           0       0.95      0.86      0.90     58367\n",
      "           1       0.26      0.51      0.34      5592\n",
      "\n",
      "    accuracy                           0.83     63959\n",
      "   macro avg       0.60      0.68      0.62     63959\n",
      "weighted avg       0.89      0.83      0.85     63959\n",
      "\n"
     ]
    }
   ],
   "source": [
    "model_nb = GaussianNB()\n",
    "model_nb.fit(X_train, y_train)\n",
    "\n",
    "y_pred=model_nb.predict(X_test)\n",
    "\n",
    "print(\"Accuracy:\",accuracy_score(y_test, y_pred))\n",
    "print(\"\\n\\t\\t\\tClassification report\\n\",classification_report(y_test, y_pred))"
   ]
  },
  {
   "cell_type": "code",
   "execution_count": 66,
   "id": "7d03ae1b",
   "metadata": {
    "hidden": true
   },
   "outputs": [
    {
     "data": {
      "image/png": "[encoded data removed]",
      "text/plain": [
       "<Figure size 432x288 with 2 Axes>"
      ]
     },
     "metadata": {
      "needs_background": "light"
     },
     "output_type": "display_data"
    }
   ],
   "source": [
    "plot_confusion_matrix(model_nb,X_test,y_test,normalize=True)"
   ]
  },
  {
   "cell_type": "code",
   "execution_count": 65,
   "id": "1c1c2f9d",
   "metadata": {
    "hidden": true
   },
   "outputs": [
    {
     "data": {
      "image/png": "[encoded data removed]",
      "text/plain": [
       "<Figure size 432x288 with 1 Axes>"
      ]
     },
     "metadata": {
      "needs_background": "light"
     },
     "output_type": "display_data"
    }
   ],
   "source": [
    "plot_prc(model_nb,X_test,y_test)"
   ]
  },
  {
   "cell_type": "markdown",
   "id": "d01ba802",
   "metadata": {
    "hidden": true
   },
   "source": [
    "## Conclusion"
   ]
  },
  {
   "cell_type": "markdown",
   "id": "786e4541",
   "metadata": {
    "hidden": true
   },
   "source": [
    "Random Forest is performing the best out of the other models on this dataset. It is giving us a good recall for the minority class and AUC for the PR curve is also the best amongst others"
   ]
  },
  {
   "cell_type": "code",
   "execution_count": null,
   "id": "7a909c05",
   "metadata": {
    "hidden": true
   },
   "outputs": [],
   "source": []
  },
  {
   "cell_type": "code",
   "execution_count": null,
   "id": "c9a535e4",
   "metadata": {
    "hidden": true
   },
   "outputs": [],
   "source": []
  }
 ],
 "metadata": {
  "kernelspec": {
   "display_name": "Python 3 (ipykernel)",
   "language": "python",
   "name": "python3"
  },
  "language_info": {
   "codemirror_mode": {
    "name": "ipython",
    "version": 3
   },
   "file_extension": ".py",
   "mimetype": "text/x-python",
   "name": "python",
   "nbconvert_exporter": "python",
   "pygments_lexer": "ipython3",
   "version": "3.10.1"
  },
  "varInspector": {
   "cols": {
    "lenName": 16,
    "lenType": 16,
    "lenVar": 40
   },
   "kernels_config": {
    "python": {
     "delete_cmd_postfix": "",
     "delete_cmd_prefix": "del ",
     "library": "var_list.py",
     "varRefreshCmd": "print(var_dic_list())"
    },
    "r": {
     "delete_cmd_postfix": ") ",
     "delete_cmd_prefix": "rm(",
     "library": "var_list.r",
     "varRefreshCmd": "cat(var_dic_list()) "
    }
   },
   "types_to_exclude": [
    "module",
    "function",
    "builtin_function_or_method",
    "instance",
    "_Feature"
   ],
   "window_display": false
  }
 },
 "nbformat": 4,
 "nbformat_minor": 5
}
